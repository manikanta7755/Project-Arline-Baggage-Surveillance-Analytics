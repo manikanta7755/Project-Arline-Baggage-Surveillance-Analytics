{
  "nbformat": 4,
  "nbformat_minor": 0,
  "metadata": {
    "colab": {
      "name": "Project1.ipynb",
      "provenance": [],
      "collapsed_sections": [],
      "authorship_tag": "ABX9TyO4ukI91pDTi8mKgxVkyav9",
      "include_colab_link": true
    },
    "kernelspec": {
      "name": "python3",
      "display_name": "Python 3"
    },
    "language_info": {
      "name": "python"
    }
  },
  "cells": [
    {
      "cell_type": "markdown",
      "metadata": {
        "id": "view-in-github",
        "colab_type": "text"
      },
      "source": [
        "<a href=\"https://colab.research.google.com/github/manikanta7755/Project-Arline-Baggage-Surveillance-Analytics/blob/main/Project1.ipynb\" target=\"_parent\"><img src=\"https://colab.research.google.com/assets/colab-badge.svg\" alt=\"Open In Colab\"/></a>"
      ]
    },
    {
      "cell_type": "code",
      "metadata": {
        "id": "B2FZEXnzOpPf",
        "colab": {
          "base_uri": "https://localhost:8080/"
        },
        "outputId": "50633b78-177b-48cd-9469-efdd53386b76"
      },
      "source": [
        "from google.colab import drive\n",
        "drive.mount(\"/content/gdrive\")"
      ],
      "execution_count": null,
      "outputs": [
        {
          "output_type": "stream",
          "name": "stdout",
          "text": [
            "Mounted at /content/gdrive\n"
          ]
        }
      ]
    },
    {
      "cell_type": "code",
      "metadata": {
        "id": "yz-138xgT8q8"
      },
      "source": [
        "import pandas as pd\n",
        "import numpy as np\n",
        "data = pd.read_csv('/content/gdrive/MyDrive/Project/BagTrack_Report.csv',encoding=\"ISO-8859-1\")"
      ],
      "execution_count": null,
      "outputs": []
    },
    {
      "cell_type": "code",
      "metadata": {
        "colab": {
          "base_uri": "https://localhost:8080/",
          "height": 206
        },
        "id": "ZwLrHUm67vwI",
        "outputId": "33aebd47-90ec-4a71-c140-f5531237435c"
      },
      "source": [
        "data.head()"
      ],
      "execution_count": null,
      "outputs": [
        {
          "output_type": "execute_result",
          "data": {
            "text/html": [
              "<div>\n",
              "<style scoped>\n",
              "    .dataframe tbody tr th:only-of-type {\n",
              "        vertical-align: middle;\n",
              "    }\n",
              "\n",
              "    .dataframe tbody tr th {\n",
              "        vertical-align: top;\n",
              "    }\n",
              "\n",
              "    .dataframe thead th {\n",
              "        text-align: right;\n",
              "    }\n",
              "</style>\n",
              "<table border=\"1\" class=\"dataframe\">\n",
              "  <thead>\n",
              "    <tr style=\"text-align: right;\">\n",
              "      <th></th>\n",
              "      <th>BagID</th>\n",
              "      <th>MVXR</th>\n",
              "      <th>BHSID</th>\n",
              "      <th>L1Decision</th>\n",
              "      <th>Level1Decision</th>\n",
              "      <th>L2Decision</th>\n",
              "      <th>L2LoginID</th>\n",
              "      <th>L2DecisionTime</th>\n",
              "      <th>L3Decision</th>\n",
              "      <th>L3LoginID</th>\n",
              "      <th>L3DecisionTime</th>\n",
              "    </tr>\n",
              "  </thead>\n",
              "  <tbody>\n",
              "    <tr>\n",
              "      <th>0</th>\n",
              "      <td>5178</td>\n",
              "      <td>2</td>\n",
              "      <td>0312365478_0280SD</td>\n",
              "      <td>Reject</td>\n",
              "      <td>01/01/2020 00:16:19</td>\n",
              "      <td>Time out</td>\n",
              "      <td>32661.0</td>\n",
              "      <td>01/01/2020 00:16:46</td>\n",
              "      <td>Reject</td>\n",
              "      <td>32887</td>\n",
              "      <td>01/01/2020 00:16:54</td>\n",
              "    </tr>\n",
              "    <tr>\n",
              "      <th>1</th>\n",
              "      <td>5180</td>\n",
              "      <td>2</td>\n",
              "      <td>0312365545_0282SD</td>\n",
              "      <td>Reject</td>\n",
              "      <td>01/01/2020 00:19:28</td>\n",
              "      <td>Accept</td>\n",
              "      <td>32661.0</td>\n",
              "      <td>01/01/2020 00:19:41</td>\n",
              "      <td>-</td>\n",
              "      <td>-</td>\n",
              "      <td>-</td>\n",
              "    </tr>\n",
              "    <tr>\n",
              "      <th>2</th>\n",
              "      <td>5187</td>\n",
              "      <td>2</td>\n",
              "      <td>0312365871_0293SD</td>\n",
              "      <td>Reject</td>\n",
              "      <td>01/01/2020 00:24:39</td>\n",
              "      <td>Accept</td>\n",
              "      <td>32153.0</td>\n",
              "      <td>01/01/2020 00:24:44</td>\n",
              "      <td>-</td>\n",
              "      <td>-</td>\n",
              "      <td>-</td>\n",
              "    </tr>\n",
              "    <tr>\n",
              "      <th>3</th>\n",
              "      <td>5189</td>\n",
              "      <td>2</td>\n",
              "      <td>0312365971_0296SD</td>\n",
              "      <td>Reject</td>\n",
              "      <td>01/01/2020 00:28:31</td>\n",
              "      <td>Accept</td>\n",
              "      <td>32153.0</td>\n",
              "      <td>01/01/2020 00:28:42</td>\n",
              "      <td>-</td>\n",
              "      <td>-</td>\n",
              "      <td>-</td>\n",
              "    </tr>\n",
              "    <tr>\n",
              "      <th>4</th>\n",
              "      <td>5196</td>\n",
              "      <td>2</td>\n",
              "      <td>0312366152_0304SD</td>\n",
              "      <td>Reject</td>\n",
              "      <td>01/01/2020 00:33:42</td>\n",
              "      <td>Accept</td>\n",
              "      <td>32153.0</td>\n",
              "      <td>01/01/2020 00:33:47</td>\n",
              "      <td>-</td>\n",
              "      <td>-</td>\n",
              "      <td>-</td>\n",
              "    </tr>\n",
              "  </tbody>\n",
              "</table>\n",
              "</div>"
            ],
            "text/plain": [
              "   BagID  MVXR              BHSID  ... L3Decision L3LoginID       L3DecisionTime\n",
              "0   5178     2  0312365478_0280SD  ...     Reject     32887  01/01/2020 00:16:54\n",
              "1   5180     2  0312365545_0282SD  ...          -         -                    -\n",
              "2   5187     2  0312365871_0293SD  ...          -         -                    -\n",
              "3   5189     2  0312365971_0296SD  ...          -         -                    -\n",
              "4   5196     2  0312366152_0304SD  ...          -         -                    -\n",
              "\n",
              "[5 rows x 11 columns]"
            ]
          },
          "metadata": {},
          "execution_count": 44
        }
      ]
    },
    {
      "cell_type": "code",
      "metadata": {
        "id": "z8SmAu33z7Ov"
      },
      "source": [
        "data = data.rename(columns={\"MVXR\":\"XBIS\"})"
      ],
      "execution_count": null,
      "outputs": []
    },
    {
      "cell_type": "code",
      "metadata": {
        "id": "dgTMMMf47yw3",
        "colab": {
          "base_uri": "https://localhost:8080/"
        },
        "outputId": "477f9e1d-f6b8-4f5a-e4b1-9764de6d2b38"
      },
      "source": [
        "data.shape"
      ],
      "execution_count": null,
      "outputs": [
        {
          "output_type": "execute_result",
          "data": {
            "text/plain": [
              "(1048574, 11)"
            ]
          },
          "metadata": {},
          "execution_count": 46
        }
      ]
    },
    {
      "cell_type": "code",
      "metadata": {
        "id": "ukpvmSFk7-kc",
        "colab": {
          "base_uri": "https://localhost:8080/"
        },
        "outputId": "17933f2a-1fcc-424b-bb22-d0683618d3af"
      },
      "source": [
        "data.columns"
      ],
      "execution_count": null,
      "outputs": [
        {
          "output_type": "execute_result",
          "data": {
            "text/plain": [
              "Index(['BagID', 'XBIS', 'BHSID', 'L1Decision', 'Level1Decision', 'L2Decision',\n",
              "       'L2LoginID', 'L2DecisionTime', 'L3Decision', 'L3LoginID',\n",
              "       'L3DecisionTime'],\n",
              "      dtype='object')"
            ]
          },
          "metadata": {},
          "execution_count": 47
        }
      ]
    },
    {
      "cell_type": "code",
      "metadata": {
        "id": "0dndex0I8DTq",
        "colab": {
          "base_uri": "https://localhost:8080/"
        },
        "outputId": "0fced013-fa8b-4d89-fb37-3ed9d007d612"
      },
      "source": [
        "data.columns=data.columns.str.replace(' ','')\n",
        "data.columns"
      ],
      "execution_count": null,
      "outputs": [
        {
          "output_type": "execute_result",
          "data": {
            "text/plain": [
              "Index(['BagID', 'XBIS', 'BHSID', 'L1Decision', 'Level1Decision', 'L2Decision',\n",
              "       'L2LoginID', 'L2DecisionTime', 'L3Decision', 'L3LoginID',\n",
              "       'L3DecisionTime'],\n",
              "      dtype='object')"
            ]
          },
          "metadata": {},
          "execution_count": 48
        }
      ]
    },
    {
      "cell_type": "code",
      "metadata": {
        "id": "cEZaM2yg8OeJ"
      },
      "source": [
        "airways= {'001': 'American Airlines',\n",
        " '002': 'CargoItalia (alternate)',\n",
        " '005': 'Continental Airlines',\n",
        " '006': 'Delta Air Lines',\n",
        " '012': 'Northwest Airlines (alternate site)',\n",
        " '014': 'Air Canada',\n",
        " '016': 'United Airlines Cargo',\n",
        " '018': 'Canadian Airlines Int´l',\n",
        " '020': 'Lufthansa Cargo AG',\n",
        " '023': 'Fedex',\n",
        " '027': 'Alaska Airlines',\n",
        " '037': 'USAirways',\n",
        " '042': 'VARIG Brazilian Airlines',\n",
        " '043': 'Dragonair',\n",
        " '045': 'LAN Chile',\n",
        " '047': 'TAP Air Portugal',\n",
        " '048': 'Cyprus Airways',\n",
        " '050': 'Olympic Airways',\n",
        " '053': 'Aer Lingus Cargo',\n",
        " '055': 'Alitalia',\n",
        " '057': 'Air France',\n",
        " '058': 'Indian Airlines',\n",
        " '061': 'Air Seychelles',\n",
        " '064': 'Czech Airlines',\n",
        " '065': 'Saudi Arabian Airlines',\n",
        " '070': 'Syrian Arab Airlines',\n",
        " '071': 'Ethiopian Airlines',\n",
        " '072': 'Gulf Air',\n",
        " '074': 'KLM Cargo',\n",
        " '075': 'Iberia',\n",
        " '076': 'Middle East Airlines',\n",
        " '077': 'Egyptair',\n",
        " '079': 'Philippine Airlines',\n",
        " '080': 'LOT Polish Airlines',\n",
        " '081': 'Qantas Airways',\n",
        " '082': 'Brussels Airlines',\n",
        " '083': 'South African Airways',\n",
        " '086': 'Air New Zealand',\n",
        " '090': 'Kingfisher Airlines',\n",
        " '093': 'KD Avia',\n",
        " '096': 'Iran Air',\n",
        " '098': 'Air India',\n",
        " '105': 'Finnair',\n",
        " '106': 'Caribbean Airlines',\n",
        " '108': 'Icelandair',\n",
        " '112': 'China Cargo Airlines',\n",
        " '114': 'EL AL',\n",
        " '115': 'JAT Airways',\n",
        " '117': 'SAS-Scandinavian Airlines System',\n",
        " '118': 'TAAG Angola Airlines',\n",
        " '119': 'Air ALM',\n",
        " '124': 'Air Algerie',\n",
        " '125': 'British Airways',\n",
        " '126': 'Garuda Indonesia',\n",
        " '129': 'Martinair Cargo',\n",
        " '131': 'Japan Airlines',\n",
        " '133': 'LACSA Airlines of Costa Rica',\n",
        " '139': 'Aeromexico Cargo',\n",
        " '140': 'LIAT Airlines',\n",
        " '147': 'Royal Air Maroc',\n",
        " '148': 'Libyan Airlines',\n",
        " '157': 'Qatar Airways',\n",
        " '160': 'Cathay Pacific Airways',\n",
        " '163': 'TNT Airways',\n",
        " '165': 'Adria Airways',\n",
        " '172': 'Cargolux Airlines',\n",
        " '176': 'Emirates',\n",
        " '180': 'Korean Air',\n",
        " '182': 'Malev Hungarian Airlines',\n",
        " '183': 'VARIG Brazilian Airlines',\n",
        " '189': 'Jade Cargo International',\n",
        " '201': 'Air Jamaica',\n",
        " '202': 'TACA',\n",
        " '205': 'ANA All Nippon Cargo',\n",
        " '214': 'Pakistan Int´l Airlines',\n",
        " '217': 'Thai Airways',\n",
        " '229': 'Kuwait Airways',\n",
        " '230': 'Copa Airlines Cargo',\n",
        " '231': 'Lauda Air',\n",
        " '232': 'Homepage',\n",
        " '234': 'Japan Air System',\n",
        " '235': 'Turkish Airlines',\n",
        " '236': 'British Midland Airways',\n",
        " '239': 'Air Mauritius',\n",
        " '257': 'Austrian Cargo',\n",
        " '258': 'Air Madagascar',\n",
        " '265': 'Far Eastern Air Transport',\n",
        " '266': 'LTU (Leisure Cargo)',\n",
        " '270': 'Trans Mediterranean Airways',\n",
        " '272': 'Kalitta Air',\n",
        " '288': 'Air Hong Kong',\n",
        " '297': 'China Airlines',\n",
        " '301': 'Global Aviation and Services',\n",
        " '302': 'Sky West Airlines',\n",
        " '307': 'Centurion Air Cargo',\n",
        " '312': 'Indigo',        \n",
        " '324': 'Shandong Airlines (Chinese)',\n",
        " '330': 'Florida West International Airways',\n",
        " '345': 'Northern Air Cargo',\n",
        " '356': 'Cargolux Italia',\n",
        " '369': 'Atlas Air',\n",
        " '378': 'Cayman Airways',\n",
        " '390': 'Aegean Airlines',\n",
        " '403': 'Polar Air Cargo',\n",
        " '404': 'Arrow Air',\n",
        " '406': 'UPS Air Cargo',\n",
        " '416': 'National Air Cargo',\n",
        " '421': 'Siberia Airlines',\n",
        " '423': 'DHL Aviation/DHL Airways',\n",
        " '465': 'Air Astana',\n",
        " '479': 'Shenzhen Airlines (Chinese)',\n",
        " '507': 'Aeroflot',\n",
        " '512': 'Royal Jordanian',\n",
        " '526': 'Southwest Airlines',\n",
        " '529': 'Cielos Airlines',\n",
        " '549': 'ABSA Aerolinhas Brasileiras',\n",
        " '552': 'Mario’s Air',\n",
        " '564': 'Sun Express',\n",
        " '566': 'Ukraine Int´l Airlines',\n",
        " '572': 'Air Moldova',\n",
        " '575': 'Coyne Airways',\n",
        " '580': 'AirBridge Cargo',\n",
        " '589': 'Jet Airways',\n",
        " '603': 'more AWB tracking',\n",
        " '604': 'Cameroon Airlines',\n",
        " '607': 'ETIHAD Airways',\n",
        " '615': 'DHL Aviation / European Air Transport',\n",
        " '618': 'Singapore Airlines',\n",
        " '623': 'Bulgaria Air',\n",
        " '631': 'Air Greenland',\n",
        " '635': 'Yemenia Yemen Airways',\n",
        " '643': 'Air Malta',\n",
        " '656': 'Air Niugini',\n",
        " '657': 'Air Baltic',\n",
        " '672': 'Royal Brunei Airlines',\n",
        " '675': 'Air Macau',\n",
        " '695': 'Eva Airways',\n",
        " '700': 'CAL Cargo Air Lines',\n",
        " '706': 'Kenya Airways',\n",
        " '716': 'MNG Airlines',\n",
        " '724': 'Swiss',\n",
        " '729': 'Tampa Airlines',\n",
        " '731': 'Xiamen Airlines',\n",
        " '737': 'SATA Air Acores',\n",
        " '738': 'Vietnam Airlines',\n",
        " '757': 'Avient',\n",
        " '771': 'Azerbaijan Airlines',\n",
        " '774': 'Shanghai Airlines',\n",
        " '781': 'China Eastern Airlines',\n",
        " '784': 'China Southern Airlines',\n",
        " '800': 'Grandstar Cargo',\n",
        " '803': 'Mandarin Airlines',\n",
        " '810': 'Amerijet International',\n",
        " '817': 'SAC South American Airways',\n",
        " '825': 'Shanghai Airlines Cargo',\n",
        " '831': 'Croatia Airlines',\n",
        " '851': 'Hong Kong Airlines',\n",
        " '858': 'Africa West',\n",
        " '862': 'Atlantic Southeast Airlines',\n",
        " '865': 'MASAir',\n",
        " '870': 'Aerosvit',\n",
        " '871': 'Yangtze River Express Airlines',\n",
        " '873': 'AeroUnion',\n",
        " '876': 'Sichuan Airlines',\n",
        " '880': 'Hainan Airlines (Chinese)',\n",
        " '881': 'Condor Flugdienst',\n",
        " '886': 'Comair',\n",
        " '901': 'TAB Cargo',\n",
        " '907': 'Air Armenia',\n",
        " '928': 'Buraq Air Transport (Arabic only)',\n",
        " '932': 'Virgin Atlantic',\n",
        " '933': 'Nippon Cargo Airlines',\n",
        " '957': 'TAM Brazilian Airlines',\n",
        " '958': 'Insel Air Cargo',\n",
        " '960': 'Estonian Air',\n",
        " '976': 'Aeromexpress Cargo',\n",
        " '988': 'Asiana Airlines',\n",
        " '989': 'Great Wall Airlines',\n",
        " '996': 'Air Europa Cargo',\n",
        " '997': 'Biman Bangladesh',\n",
        " '999': 'Air China',\n",
        " '775': 'SpiceJet',\n",
        " '879': 'GoAir',\n",
        " '228': 'Vistara',\n",
        " '668': 'Tiger Airways',\n",
        " '100': 'TruJet',\n",
        " '514': 'Air Arabia',\n",
        " '910': 'Oman Air',\n",
        " '141': 'FlyDubai',\n",
        " '705': 'Jet Lite',\n",
        " '629': 'Silk Air',\n",
        " '807': 'Air Asia',\n",
        " '319': 'Expo Aviation',\n",
        " '279': 'JetBlue Airways',\n",
        " '555': 'Aeroflot',\n",
        " '128': 'Hong Kong Express',\n",
        " '790': 'Leaderjet',\n",
        " '030': 'Air Togo',\n",
        " '511': 'Yamal Airlines',\n",
        " '188': 'Air Alliance Inc',\n",
        " '652': 'Islandsflug',\n",
        " '041': 'Jetstar',\n",
        " '555': 'Aeroflot Russian Airlines',\n",
        " '909': 'Transwest Air',\n",
        " '337': 'Sun County Airlines',\n",
        " '412': 'Volga Dnepr Airlines',\n",
        " '352': 'Air Comet',\n",
        " '179' : 'Aztec Worldwide Airlines Inc.',\n",
        "'220' : 'Lufthansa ',\n",
        "'222' : 'InterSky',\n",
        "'250' : 'Uzbekistan Airways',\n",
        "'260' : 'Fiji Airways',\n",
        "'284' : 'Thai Air Cargo',\n",
        "'285' : 'Royal Nepal Airlines',\n",
        "'311' : 'Alajnihah Air Transport' ,\n",
        "'316' : 'JSC Nordavia - RA',\n",
        "'317' : 'Alliance Airlines',\n",
        "'327' : 'Aloha Airline',\n",
        "'357' : 'Business Express',\n",
        "'382' : 'Transarca International Airways',\n",
        "'386' : 'Air Aurora',\n",
        "'388' : 'Pan American World Airways',\n",
        "'446' : 'Allied Airlines',\n",
        "'459' : 'Rwandair Express',\n",
        "'486' : 'Jazeera Airways',\n",
        "'523' : 'Travelport**',\n",
        "'612' : 'TUI Airlines',\n",
        "'712' : 'Volotea SL',\n",
        "'755' : 'AIR Rarotonga',\n",
        "'777' : 'Air Toronto',\n",
        "'786' : 'Virgin Nigeria Airways',\n",
        "'787' : 'Druk Air',\n",
        "'816' : 'Malindo Airways',\n",
        "'000' : 'XBIS',\n",
        "'322' : 'Airport',\n",
        "'314' : 'Airport1',\n",
        "'313' : 'Airport2',\n",
        "'387' : 'Airport3',\n",
        "'028' : 'Airport4',\n",
        "}"
      ],
      "execution_count": null,
      "outputs": []
    },
    {
      "cell_type": "code",
      "metadata": {
        "id": "IyvmXv2L8xrY",
        "colab": {
          "base_uri": "https://localhost:8080/"
        },
        "outputId": "d81ebdd3-dc4e-4ca6-fc1d-e2a1b5acba3f"
      },
      "source": [
        "len(airways)"
      ],
      "execution_count": null,
      "outputs": [
        {
          "output_type": "execute_result",
          "data": {
            "text/plain": [
              "238"
            ]
          },
          "metadata": {},
          "execution_count": 50
        }
      ]
    },
    {
      "cell_type": "code",
      "metadata": {
        "id": "Lvy1VpHb82HL"
      },
      "source": [
        "data[\"BHSID\"]=data[\"BHSID\"].str[1:4]"
      ],
      "execution_count": null,
      "outputs": []
    },
    {
      "cell_type": "code",
      "metadata": {
        "id": "ew1cdOo69T5d"
      },
      "source": [
        "data['Airlines'] = data['BHSID'].map(airways)"
      ],
      "execution_count": null,
      "outputs": []
    },
    {
      "cell_type": "code",
      "metadata": {
        "id": "dL6m3qtX9sI-",
        "colab": {
          "base_uri": "https://localhost:8080/"
        },
        "outputId": "ed7cce21-7f08-48ab-987e-5d130b3e42d7"
      },
      "source": [
        "data[\"Airlines\"].unique()"
      ],
      "execution_count": null,
      "outputs": [
        {
          "output_type": "execute_result",
          "data": {
            "text/plain": [
              "array(['Indigo', 'XBIS', 'SpiceJet', nan, 'American Airlines',\n",
              "       'Air India', 'GoAir', 'Air France', 'Air Asia', 'Air Toronto',\n",
              "       'Vistara', 'Qatar Airways', 'Turkish Airlines', 'Tiger Airways',\n",
              "       'ETIHAD Airways', 'Emirates', 'Homepage', 'Air China', 'TruJet',\n",
              "       'Thai Airways', 'United Airlines Cargo', 'Air Arabia',\n",
              "       'Volotea SL', 'Jazeera Airways', 'Expo Aviation', 'Jet Airways',\n",
              "       'Oman Air', 'Delta Air Lines', 'Airport', 'Kuwait Airways',\n",
              "       'Cathay Pacific Airways', 'Royal Brunei Airlines',\n",
              "       'more AWB tracking', 'Aeroflot Russian Airlines',\n",
              "       'Saudi Arabian Airlines', 'SAS-Scandinavian Airlines System',\n",
              "       'Azerbaijan Airlines', 'British Airways', 'Fiji Airways',\n",
              "       'InterSky', 'Gulf Air', 'Airport1', 'Dragonair',\n",
              "       'LOT Polish Airlines', 'Pan American World Airways', 'Air Togo',\n",
              "       'Airport2', 'Business Express', 'AIR Rarotonga', 'Air New Zealand',\n",
              "       'Transarca International Airways', 'Lufthansa ', 'JetBlue Airways',\n",
              "       'Leaderjet', 'Malindo Airways', 'JSC Nordavia - RA',\n",
              "       'Singapore Airlines', 'Iberia', 'FlyDubai', 'Silk Air',\n",
              "       'Royal Nepal Airlines', 'Travelport**', 'Alitalia',\n",
              "       'Alaska Airlines', 'Yamal Airlines', 'Transwest Air', 'Jet Lite',\n",
              "       'Druk Air', 'Jetstar', 'Yemenia Yemen Airways',\n",
              "       'Alajnihah Air Transport', 'Virgin Nigeria Airways',\n",
              "       'Aztec Worldwide Airlines Inc.', 'Shenzhen Airlines (Chinese)',\n",
              "       'Air Alliance Inc', 'Air Mauritius', 'Airport3', 'Qantas Airways',\n",
              "       'Copa Airlines Cargo', 'Brussels Airlines', 'Airport4',\n",
              "       'Alliance Airlines', 'Royal Jordanian', 'China Southern Airlines',\n",
              "       'Air Comet', 'TUI Airlines', 'Aloha Airline',\n",
              "       'Sun County Airlines', 'Thai Air Cargo', 'Aeromexico Cargo',\n",
              "       'Uzbekistan Airways', 'Finnair',\n",
              "       'Northwest Airlines (alternate site)', 'Islandsflug',\n",
              "       'Japan Air System', 'Austrian Cargo', 'Swiss', 'Rwandair Express',\n",
              "       'Hong Kong Express', 'Ukraine Int´l Airlines',\n",
              "       'China Eastern Airlines', 'Air Aurora', 'Volga Dnepr Airlines',\n",
              "       'KLM Cargo', 'Ethiopian Airlines', 'Allied Airlines'], dtype=object)"
            ]
          },
          "metadata": {},
          "execution_count": 53
        }
      ]
    },
    {
      "cell_type": "code",
      "metadata": {
        "id": "aG22j0o8-A3z",
        "colab": {
          "base_uri": "https://localhost:8080/"
        },
        "outputId": "8dff390b-fd25-490d-ab1f-824a5c345445"
      },
      "source": [
        "pd.value_counts(data[\"Airlines\"]).iloc[:20]"
      ],
      "execution_count": null,
      "outputs": [
        {
          "output_type": "execute_result",
          "data": {
            "text/plain": [
              "Indigo                   503796\n",
              "XBIS                     110833\n",
              "SpiceJet                 109161\n",
              "Air India                 81682\n",
              "Air Asia                  75303\n",
              "American Airlines         59414\n",
              "GoAir                     52799\n",
              "Vistara                   35428\n",
              "Air Toronto               18001\n",
              "Air France                  146\n",
              "Emirates                     83\n",
              "Qatar Airways                50\n",
              "Thai Airways                 47\n",
              "Japan Air System             45\n",
              "United Airlines Cargo        41\n",
              "Air China                    37\n",
              "AIR Rarotonga                34\n",
              "ETIHAD Airways               34\n",
              "Oman Air                     28\n",
              "Turkish Airlines             19\n",
              "Name: Airlines, dtype: int64"
            ]
          },
          "metadata": {},
          "execution_count": 54
        }
      ]
    },
    {
      "cell_type": "code",
      "metadata": {
        "id": "DH8QcnzyBJLz",
        "colab": {
          "base_uri": "https://localhost:8080/",
          "height": 424
        },
        "outputId": "c917e37b-85e2-424f-fc92-3111e8356198"
      },
      "source": [
        "data"
      ],
      "execution_count": null,
      "outputs": [
        {
          "output_type": "execute_result",
          "data": {
            "text/html": [
              "<div>\n",
              "<style scoped>\n",
              "    .dataframe tbody tr th:only-of-type {\n",
              "        vertical-align: middle;\n",
              "    }\n",
              "\n",
              "    .dataframe tbody tr th {\n",
              "        vertical-align: top;\n",
              "    }\n",
              "\n",
              "    .dataframe thead th {\n",
              "        text-align: right;\n",
              "    }\n",
              "</style>\n",
              "<table border=\"1\" class=\"dataframe\">\n",
              "  <thead>\n",
              "    <tr style=\"text-align: right;\">\n",
              "      <th></th>\n",
              "      <th>BagID</th>\n",
              "      <th>XBIS</th>\n",
              "      <th>BHSID</th>\n",
              "      <th>L1Decision</th>\n",
              "      <th>Level1Decision</th>\n",
              "      <th>L2Decision</th>\n",
              "      <th>L2LoginID</th>\n",
              "      <th>L2DecisionTime</th>\n",
              "      <th>L3Decision</th>\n",
              "      <th>L3LoginID</th>\n",
              "      <th>L3DecisionTime</th>\n",
              "      <th>Airlines</th>\n",
              "    </tr>\n",
              "  </thead>\n",
              "  <tbody>\n",
              "    <tr>\n",
              "      <th>0</th>\n",
              "      <td>5178</td>\n",
              "      <td>2</td>\n",
              "      <td>312</td>\n",
              "      <td>Reject</td>\n",
              "      <td>01/01/2020 00:16:19</td>\n",
              "      <td>Time out</td>\n",
              "      <td>32661.0</td>\n",
              "      <td>01/01/2020 00:16:46</td>\n",
              "      <td>Reject</td>\n",
              "      <td>32887</td>\n",
              "      <td>01/01/2020 00:16:54</td>\n",
              "      <td>Indigo</td>\n",
              "    </tr>\n",
              "    <tr>\n",
              "      <th>1</th>\n",
              "      <td>5180</td>\n",
              "      <td>2</td>\n",
              "      <td>312</td>\n",
              "      <td>Reject</td>\n",
              "      <td>01/01/2020 00:19:28</td>\n",
              "      <td>Accept</td>\n",
              "      <td>32661.0</td>\n",
              "      <td>01/01/2020 00:19:41</td>\n",
              "      <td>-</td>\n",
              "      <td>-</td>\n",
              "      <td>-</td>\n",
              "      <td>Indigo</td>\n",
              "    </tr>\n",
              "    <tr>\n",
              "      <th>2</th>\n",
              "      <td>5187</td>\n",
              "      <td>2</td>\n",
              "      <td>312</td>\n",
              "      <td>Reject</td>\n",
              "      <td>01/01/2020 00:24:39</td>\n",
              "      <td>Accept</td>\n",
              "      <td>32153.0</td>\n",
              "      <td>01/01/2020 00:24:44</td>\n",
              "      <td>-</td>\n",
              "      <td>-</td>\n",
              "      <td>-</td>\n",
              "      <td>Indigo</td>\n",
              "    </tr>\n",
              "    <tr>\n",
              "      <th>3</th>\n",
              "      <td>5189</td>\n",
              "      <td>2</td>\n",
              "      <td>312</td>\n",
              "      <td>Reject</td>\n",
              "      <td>01/01/2020 00:28:31</td>\n",
              "      <td>Accept</td>\n",
              "      <td>32153.0</td>\n",
              "      <td>01/01/2020 00:28:42</td>\n",
              "      <td>-</td>\n",
              "      <td>-</td>\n",
              "      <td>-</td>\n",
              "      <td>Indigo</td>\n",
              "    </tr>\n",
              "    <tr>\n",
              "      <th>4</th>\n",
              "      <td>5196</td>\n",
              "      <td>2</td>\n",
              "      <td>312</td>\n",
              "      <td>Reject</td>\n",
              "      <td>01/01/2020 00:33:42</td>\n",
              "      <td>Accept</td>\n",
              "      <td>32153.0</td>\n",
              "      <td>01/01/2020 00:33:47</td>\n",
              "      <td>-</td>\n",
              "      <td>-</td>\n",
              "      <td>-</td>\n",
              "      <td>Indigo</td>\n",
              "    </tr>\n",
              "    <tr>\n",
              "      <th>...</th>\n",
              "      <td>...</td>\n",
              "      <td>...</td>\n",
              "      <td>...</td>\n",
              "      <td>...</td>\n",
              "      <td>...</td>\n",
              "      <td>...</td>\n",
              "      <td>...</td>\n",
              "      <td>...</td>\n",
              "      <td>...</td>\n",
              "      <td>...</td>\n",
              "      <td>...</td>\n",
              "      <td>...</td>\n",
              "    </tr>\n",
              "    <tr>\n",
              "      <th>1048569</th>\n",
              "      <td>707</td>\n",
              "      <td>1</td>\n",
              "      <td>312</td>\n",
              "      <td>Reject</td>\n",
              "      <td>3/24/2020 12:30:48</td>\n",
              "      <td>Accept</td>\n",
              "      <td>34243.0</td>\n",
              "      <td>3/24/2020 12:31:02</td>\n",
              "      <td>-</td>\n",
              "      <td>-</td>\n",
              "      <td>-</td>\n",
              "      <td>Indigo</td>\n",
              "    </tr>\n",
              "    <tr>\n",
              "      <th>1048570</th>\n",
              "      <td>708</td>\n",
              "      <td>1</td>\n",
              "      <td>312</td>\n",
              "      <td>Reject</td>\n",
              "      <td>3/24/2020 12:30:51</td>\n",
              "      <td>Accept</td>\n",
              "      <td>32797.0</td>\n",
              "      <td>3/24/2020 12:31:11</td>\n",
              "      <td>-</td>\n",
              "      <td>-</td>\n",
              "      <td>-</td>\n",
              "      <td>Indigo</td>\n",
              "    </tr>\n",
              "    <tr>\n",
              "      <th>1048571</th>\n",
              "      <td>722</td>\n",
              "      <td>1</td>\n",
              "      <td>777</td>\n",
              "      <td>Reject</td>\n",
              "      <td>3/24/2020 12:35:19</td>\n",
              "      <td>Accept</td>\n",
              "      <td>36548.0</td>\n",
              "      <td>3/24/2020 12:35:35</td>\n",
              "      <td>-</td>\n",
              "      <td>-</td>\n",
              "      <td>-</td>\n",
              "      <td>Air Toronto</td>\n",
              "    </tr>\n",
              "    <tr>\n",
              "      <th>1048572</th>\n",
              "      <td>723</td>\n",
              "      <td>1</td>\n",
              "      <td>312</td>\n",
              "      <td>Reject</td>\n",
              "      <td>3/24/2020 12:35:22</td>\n",
              "      <td>Accept</td>\n",
              "      <td>34243.0</td>\n",
              "      <td>3/24/2020 12:35:47</td>\n",
              "      <td>-</td>\n",
              "      <td>-</td>\n",
              "      <td>-</td>\n",
              "      <td>Indigo</td>\n",
              "    </tr>\n",
              "    <tr>\n",
              "      <th>1048573</th>\n",
              "      <td>724</td>\n",
              "      <td>1</td>\n",
              "      <td>312</td>\n",
              "      <td>Reject</td>\n",
              "      <td>3/24/2020 12:35:42</td>\n",
              "      <td>Reject</td>\n",
              "      <td>32797.0</td>\n",
              "      <td>3/24/2020 12:35:55</td>\n",
              "      <td>Reject</td>\n",
              "      <td>4402</td>\n",
              "      <td>3/24/2020 12:36:32</td>\n",
              "      <td>Indigo</td>\n",
              "    </tr>\n",
              "  </tbody>\n",
              "</table>\n",
              "<p>1048574 rows × 12 columns</p>\n",
              "</div>"
            ],
            "text/plain": [
              "         BagID  XBIS BHSID  ... L3LoginID       L3DecisionTime     Airlines\n",
              "0         5178     2   312  ...     32887  01/01/2020 00:16:54       Indigo\n",
              "1         5180     2   312  ...         -                    -       Indigo\n",
              "2         5187     2   312  ...         -                    -       Indigo\n",
              "3         5189     2   312  ...         -                    -       Indigo\n",
              "4         5196     2   312  ...         -                    -       Indigo\n",
              "...        ...   ...   ...  ...       ...                  ...          ...\n",
              "1048569    707     1   312  ...         -                    -       Indigo\n",
              "1048570    708     1   312  ...         -                    -       Indigo\n",
              "1048571    722     1   777  ...         -                    -  Air Toronto\n",
              "1048572    723     1   312  ...         -                    -       Indigo\n",
              "1048573    724     1   312  ...      4402   3/24/2020 12:36:32       Indigo\n",
              "\n",
              "[1048574 rows x 12 columns]"
            ]
          },
          "metadata": {},
          "execution_count": 55
        }
      ]
    },
    {
      "cell_type": "code",
      "metadata": {
        "id": "e1W4b-I1wg3Q",
        "colab": {
          "base_uri": "https://localhost:8080/",
          "height": 517
        },
        "outputId": "d71c847a-447a-4638-818a-d81cf371840d"
      },
      "source": [
        "import matplotlib.pyplot as plt\n",
        "import seaborn as sns\n",
        "sns.countplot(x=\"Airlines\",data=data,order=pd.value_counts(data[\"Airlines\"]).iloc[:10].index)\n",
        "sns.set(rc={'figure.figsize':(13,14)})\n"
      ],
      "execution_count": null,
      "outputs": [
        {
          "output_type": "display_data",
          "data": {
            "image/png": "[encoded data removed]",
            "text/plain": [
              "<Figure size 936x595.44 with 1 Axes>"
            ]
          },
          "metadata": {}
        }
      ]
    },
    {
      "cell_type": "code",
      "metadata": {
        "id": "sjbduEuYwgiB",
        "colab": {
          "base_uri": "https://localhost:8080/",
          "height": 447
        },
        "outputId": "501bac7f-8dd3-4433-a9f7-49c56084128e"
      },
      "source": [
        "flights=['Indigo','XBIS','SpiceJet','Air India','Air Asia','American Airlines','GoAir ']\n",
        "passengers=[ 503795,110833,109161,81682,75303,59414,52799]\n",
        "colors=['Indigo','Violet','Blue','Green','Yellow','Orange','Red','Pink','Brown']\n",
        "plt.figure(figsize=(10,7))\n",
        "plt.bar(flights,passengers,color=colors,width=0.3)\n",
        "plt.title('Bags vs Flights')\n",
        "plt.show()\n"
      ],
      "execution_count": null,
      "outputs": [
        {
          "output_type": "display_data",
          "data": {
            "image/png": "[encoded data removed]",
            "text/plain": [
              "<Figure size 720x504 with 1 Axes>"
            ]
          },
          "metadata": {}
        }
      ]
    },
    {
      "cell_type": "code",
      "metadata": {
        "id": "Q-xXJUHoCC-Q"
      },
      "source": [
        "datanew = data.drop(['BagID','L1Decision'],axis = 1)"
      ],
      "execution_count": null,
      "outputs": []
    },
    {
      "cell_type": "code",
      "metadata": {
        "id": "7VL9YPHTDUY6",
        "colab": {
          "base_uri": "https://localhost:8080/",
          "height": 424
        },
        "outputId": "3d1429ab-8afa-4651-a355-31ff8ae28cee"
      },
      "source": [
        "datanew"
      ],
      "execution_count": null,
      "outputs": [
        {
          "output_type": "execute_result",
          "data": {
            "text/html": [
              "<div>\n",
              "<style scoped>\n",
              "    .dataframe tbody tr th:only-of-type {\n",
              "        vertical-align: middle;\n",
              "    }\n",
              "\n",
              "    .dataframe tbody tr th {\n",
              "        vertical-align: top;\n",
              "    }\n",
              "\n",
              "    .dataframe thead th {\n",
              "        text-align: right;\n",
              "    }\n",
              "</style>\n",
              "<table border=\"1\" class=\"dataframe\">\n",
              "  <thead>\n",
              "    <tr style=\"text-align: right;\">\n",
              "      <th></th>\n",
              "      <th>XBIS</th>\n",
              "      <th>BHSID</th>\n",
              "      <th>Level1Decision</th>\n",
              "      <th>L2Decision</th>\n",
              "      <th>L2LoginID</th>\n",
              "      <th>L2DecisionTime</th>\n",
              "      <th>L3Decision</th>\n",
              "      <th>L3LoginID</th>\n",
              "      <th>L3DecisionTime</th>\n",
              "      <th>Airlines</th>\n",
              "    </tr>\n",
              "  </thead>\n",
              "  <tbody>\n",
              "    <tr>\n",
              "      <th>0</th>\n",
              "      <td>2</td>\n",
              "      <td>312</td>\n",
              "      <td>01/01/2020 00:16:19</td>\n",
              "      <td>Time out</td>\n",
              "      <td>32661.0</td>\n",
              "      <td>01/01/2020 00:16:46</td>\n",
              "      <td>Reject</td>\n",
              "      <td>32887</td>\n",
              "      <td>01/01/2020 00:16:54</td>\n",
              "      <td>Indigo</td>\n",
              "    </tr>\n",
              "    <tr>\n",
              "      <th>1</th>\n",
              "      <td>2</td>\n",
              "      <td>312</td>\n",
              "      <td>01/01/2020 00:19:28</td>\n",
              "      <td>Accept</td>\n",
              "      <td>32661.0</td>\n",
              "      <td>01/01/2020 00:19:41</td>\n",
              "      <td>-</td>\n",
              "      <td>-</td>\n",
              "      <td>-</td>\n",
              "      <td>Indigo</td>\n",
              "    </tr>\n",
              "    <tr>\n",
              "      <th>2</th>\n",
              "      <td>2</td>\n",
              "      <td>312</td>\n",
              "      <td>01/01/2020 00:24:39</td>\n",
              "      <td>Accept</td>\n",
              "      <td>32153.0</td>\n",
              "      <td>01/01/2020 00:24:44</td>\n",
              "      <td>-</td>\n",
              "      <td>-</td>\n",
              "      <td>-</td>\n",
              "      <td>Indigo</td>\n",
              "    </tr>\n",
              "    <tr>\n",
              "      <th>3</th>\n",
              "      <td>2</td>\n",
              "      <td>312</td>\n",
              "      <td>01/01/2020 00:28:31</td>\n",
              "      <td>Accept</td>\n",
              "      <td>32153.0</td>\n",
              "      <td>01/01/2020 00:28:42</td>\n",
              "      <td>-</td>\n",
              "      <td>-</td>\n",
              "      <td>-</td>\n",
              "      <td>Indigo</td>\n",
              "    </tr>\n",
              "    <tr>\n",
              "      <th>4</th>\n",
              "      <td>2</td>\n",
              "      <td>312</td>\n",
              "      <td>01/01/2020 00:33:42</td>\n",
              "      <td>Accept</td>\n",
              "      <td>32153.0</td>\n",
              "      <td>01/01/2020 00:33:47</td>\n",
              "      <td>-</td>\n",
              "      <td>-</td>\n",
              "      <td>-</td>\n",
              "      <td>Indigo</td>\n",
              "    </tr>\n",
              "    <tr>\n",
              "      <th>...</th>\n",
              "      <td>...</td>\n",
              "      <td>...</td>\n",
              "      <td>...</td>\n",
              "      <td>...</td>\n",
              "      <td>...</td>\n",
              "      <td>...</td>\n",
              "      <td>...</td>\n",
              "      <td>...</td>\n",
              "      <td>...</td>\n",
              "      <td>...</td>\n",
              "    </tr>\n",
              "    <tr>\n",
              "      <th>1048569</th>\n",
              "      <td>1</td>\n",
              "      <td>312</td>\n",
              "      <td>3/24/2020 12:30:48</td>\n",
              "      <td>Accept</td>\n",
              "      <td>34243.0</td>\n",
              "      <td>3/24/2020 12:31:02</td>\n",
              "      <td>-</td>\n",
              "      <td>-</td>\n",
              "      <td>-</td>\n",
              "      <td>Indigo</td>\n",
              "    </tr>\n",
              "    <tr>\n",
              "      <th>1048570</th>\n",
              "      <td>1</td>\n",
              "      <td>312</td>\n",
              "      <td>3/24/2020 12:30:51</td>\n",
              "      <td>Accept</td>\n",
              "      <td>32797.0</td>\n",
              "      <td>3/24/2020 12:31:11</td>\n",
              "      <td>-</td>\n",
              "      <td>-</td>\n",
              "      <td>-</td>\n",
              "      <td>Indigo</td>\n",
              "    </tr>\n",
              "    <tr>\n",
              "      <th>1048571</th>\n",
              "      <td>1</td>\n",
              "      <td>777</td>\n",
              "      <td>3/24/2020 12:35:19</td>\n",
              "      <td>Accept</td>\n",
              "      <td>36548.0</td>\n",
              "      <td>3/24/2020 12:35:35</td>\n",
              "      <td>-</td>\n",
              "      <td>-</td>\n",
              "      <td>-</td>\n",
              "      <td>Air Toronto</td>\n",
              "    </tr>\n",
              "    <tr>\n",
              "      <th>1048572</th>\n",
              "      <td>1</td>\n",
              "      <td>312</td>\n",
              "      <td>3/24/2020 12:35:22</td>\n",
              "      <td>Accept</td>\n",
              "      <td>34243.0</td>\n",
              "      <td>3/24/2020 12:35:47</td>\n",
              "      <td>-</td>\n",
              "      <td>-</td>\n",
              "      <td>-</td>\n",
              "      <td>Indigo</td>\n",
              "    </tr>\n",
              "    <tr>\n",
              "      <th>1048573</th>\n",
              "      <td>1</td>\n",
              "      <td>312</td>\n",
              "      <td>3/24/2020 12:35:42</td>\n",
              "      <td>Reject</td>\n",
              "      <td>32797.0</td>\n",
              "      <td>3/24/2020 12:35:55</td>\n",
              "      <td>Reject</td>\n",
              "      <td>4402</td>\n",
              "      <td>3/24/2020 12:36:32</td>\n",
              "      <td>Indigo</td>\n",
              "    </tr>\n",
              "  </tbody>\n",
              "</table>\n",
              "<p>1048574 rows × 10 columns</p>\n",
              "</div>"
            ],
            "text/plain": [
              "         XBIS BHSID  ...       L3DecisionTime     Airlines\n",
              "0           2   312  ...  01/01/2020 00:16:54       Indigo\n",
              "1           2   312  ...                    -       Indigo\n",
              "2           2   312  ...                    -       Indigo\n",
              "3           2   312  ...                    -       Indigo\n",
              "4           2   312  ...                    -       Indigo\n",
              "...       ...   ...  ...                  ...          ...\n",
              "1048569     1   312  ...                    -       Indigo\n",
              "1048570     1   312  ...                    -       Indigo\n",
              "1048571     1   777  ...                    -  Air Toronto\n",
              "1048572     1   312  ...                    -       Indigo\n",
              "1048573     1   312  ...   3/24/2020 12:36:32       Indigo\n",
              "\n",
              "[1048574 rows x 10 columns]"
            ]
          },
          "metadata": {},
          "execution_count": 62
        }
      ]
    },
    {
      "cell_type": "code",
      "metadata": {
        "id": "iUti-L3MDWpS"
      },
      "source": [
        "##converting string datatime to python datetime object L1 and L2 datetimes\n",
        "datanew['Level1Decision']=pd.to_datetime(datanew['Level1Decision'])\n",
        "datanew['L2DecisionTime']=pd.to_datetime(datanew['L2DecisionTime'])"
      ],
      "execution_count": null,
      "outputs": []
    },
    {
      "cell_type": "code",
      "metadata": {
        "id": "hDj3NWmLEKO_",
        "colab": {
          "base_uri": "https://localhost:8080/"
        },
        "outputId": "7235be74-e5bf-4d90-aef3-7ff158a045fa"
      },
      "source": [
        "##converting string datatime to python datetime object L3 datetimes\n",
        "datanew['L3DecisionTime']=pd.to_datetime(datanew['L3DecisionTime'],errors='coerce')\n",
        "datanew.info()"
      ],
      "execution_count": null,
      "outputs": [
        {
          "output_type": "stream",
          "name": "stdout",
          "text": [
            "<class 'pandas.core.frame.DataFrame'>\n",
            "RangeIndex: 1048574 entries, 0 to 1048573\n",
            "Data columns (total 10 columns):\n",
            " #   Column          Non-Null Count    Dtype         \n",
            "---  ------          --------------    -----         \n",
            " 0   XBIS            1048574 non-null  int64         \n",
            " 1   BHSID           1048568 non-null  object        \n",
            " 2   Level1Decision  1048574 non-null  datetime64[ns]\n",
            " 3   L2Decision      1048574 non-null  object        \n",
            " 4   L2LoginID       1015291 non-null  float64       \n",
            " 5   L2DecisionTime  1048574 non-null  datetime64[ns]\n",
            " 6   L3Decision      1048574 non-null  object        \n",
            " 7   L3LoginID       1046776 non-null  object        \n",
            " 8   L3DecisionTime  235833 non-null   datetime64[ns]\n",
            " 9   Airlines        1047246 non-null  object        \n",
            "dtypes: datetime64[ns](3), float64(1), int64(1), object(5)\n",
            "memory usage: 80.0+ MB\n"
          ]
        }
      ]
    },
    {
      "cell_type": "markdown",
      "metadata": {
        "id": "qy0TrKNSF1Ac"
      },
      "source": [
        "# \"\" <font color=\"red\">Operators Performance</font>\"\""
      ]
    },
    {
      "cell_type": "markdown",
      "metadata": {
        "id": "btoIdZ6C9m7Y"
      },
      "source": [
        "**Operator2**"
      ]
    },
    {
      "cell_type": "code",
      "metadata": {
        "id": "VJ3Z72frFhwe"
      },
      "source": [
        "### Operator 2 (L2-L1 time)\n",
        "datanew['L2operatortime']=datanew['L2DecisionTime']-datanew['Level1Decision']\n",
        "\n",
        "## To covert L2 time in Seconds ##\n",
        "datanew['L2operatorsecs']=datanew['L2operatortime'].dt.total_seconds().astype(int)"
      ],
      "execution_count": null,
      "outputs": []
    },
    {
      "cell_type": "code",
      "metadata": {
        "id": "A1qqmrxoG4US",
        "colab": {
          "base_uri": "https://localhost:8080/"
        },
        "outputId": "6487de2a-4161-4f08-b8e4-07fdd53b2328"
      },
      "source": [
        "print(\"time differences mean:\",datanew[\"L2operatorsecs\"].mean())\n",
        "print(\"max of :\",datanew[\"L2operatorsecs\"].max())\n",
        "print(\"min of :\",datanew[\"L2operatorsecs\"].min())"
      ],
      "execution_count": null,
      "outputs": [
        {
          "output_type": "stream",
          "name": "stdout",
          "text": [
            "time differences mean: 15.023135229368647\n",
            "max of : 111\n",
            "min of : -8984\n"
          ]
        }
      ]
    },
    {
      "cell_type": "code",
      "metadata": {
        "id": "UWMoB1y9H3zo",
        "colab": {
          "base_uri": "https://localhost:8080/",
          "height": 196
        },
        "outputId": "7804fa27-c3d2-41be-b99f-8c9f328daeef"
      },
      "source": [
        "datanew.nlargest(3,\"L2operatorsecs\")"
      ],
      "execution_count": null,
      "outputs": [
        {
          "output_type": "execute_result",
          "data": {
            "text/html": [
              "<div>\n",
              "<style scoped>\n",
              "    .dataframe tbody tr th:only-of-type {\n",
              "        vertical-align: middle;\n",
              "    }\n",
              "\n",
              "    .dataframe tbody tr th {\n",
              "        vertical-align: top;\n",
              "    }\n",
              "\n",
              "    .dataframe thead th {\n",
              "        text-align: right;\n",
              "    }\n",
              "</style>\n",
              "<table border=\"1\" class=\"dataframe\">\n",
              "  <thead>\n",
              "    <tr style=\"text-align: right;\">\n",
              "      <th></th>\n",
              "      <th>XBIS</th>\n",
              "      <th>BHSID</th>\n",
              "      <th>Level1Decision</th>\n",
              "      <th>L2Decision</th>\n",
              "      <th>L2LoginID</th>\n",
              "      <th>L2DecisionTime</th>\n",
              "      <th>L3Decision</th>\n",
              "      <th>L3LoginID</th>\n",
              "      <th>L3DecisionTime</th>\n",
              "      <th>Airlines</th>\n",
              "      <th>L2operatortime</th>\n",
              "      <th>L2operatorsecs</th>\n",
              "    </tr>\n",
              "  </thead>\n",
              "  <tbody>\n",
              "    <tr>\n",
              "      <th>61112</th>\n",
              "      <td>2</td>\n",
              "      <td>312</td>\n",
              "      <td>2020-01-02 08:11:16</td>\n",
              "      <td>Default Reject</td>\n",
              "      <td>32880.0</td>\n",
              "      <td>2020-01-02 08:13:07</td>\n",
              "      <td>Reject</td>\n",
              "      <td>4130</td>\n",
              "      <td>2020-01-02 08:14:02</td>\n",
              "      <td>Indigo</td>\n",
              "      <td>0 days 00:01:51</td>\n",
              "      <td>111</td>\n",
              "    </tr>\n",
              "    <tr>\n",
              "      <th>73850</th>\n",
              "      <td>2</td>\n",
              "      <td>312</td>\n",
              "      <td>2020-01-12 07:13:41</td>\n",
              "      <td>Default Reject</td>\n",
              "      <td>32878.0</td>\n",
              "      <td>2020-01-12 07:15:31</td>\n",
              "      <td>Accept</td>\n",
              "      <td>31230</td>\n",
              "      <td>2020-01-12 07:15:35</td>\n",
              "      <td>Indigo</td>\n",
              "      <td>0 days 00:01:50</td>\n",
              "      <td>110</td>\n",
              "    </tr>\n",
              "    <tr>\n",
              "      <th>353117</th>\n",
              "      <td>4</td>\n",
              "      <td>807</td>\n",
              "      <td>2020-01-09 06:22:41</td>\n",
              "      <td>Default Reject</td>\n",
              "      <td>32149.0</td>\n",
              "      <td>2020-01-09 06:24:31</td>\n",
              "      <td>Accept</td>\n",
              "      <td>32646</td>\n",
              "      <td>2020-01-09 06:25:22</td>\n",
              "      <td>Air Asia</td>\n",
              "      <td>0 days 00:01:50</td>\n",
              "      <td>110</td>\n",
              "    </tr>\n",
              "  </tbody>\n",
              "</table>\n",
              "</div>"
            ],
            "text/plain": [
              "        XBIS BHSID  ...  L2operatortime L2operatorsecs\n",
              "61112      2   312  ... 0 days 00:01:51            111\n",
              "73850      2   312  ... 0 days 00:01:50            110\n",
              "353117     4   807  ... 0 days 00:01:50            110\n",
              "\n",
              "[3 rows x 12 columns]"
            ]
          },
          "metadata": {},
          "execution_count": 67
        }
      ]
    },
    {
      "cell_type": "code",
      "metadata": {
        "id": "KjA3C0dTIGF2",
        "colab": {
          "base_uri": "https://localhost:8080/",
          "height": 196
        },
        "outputId": "0c9ffb50-5d7f-49f2-cb22-658ef2df6993"
      },
      "source": [
        "datanew.nsmallest(3,\"L2operatorsecs\")"
      ],
      "execution_count": null,
      "outputs": [
        {
          "output_type": "execute_result",
          "data": {
            "text/html": [
              "<div>\n",
              "<style scoped>\n",
              "    .dataframe tbody tr th:only-of-type {\n",
              "        vertical-align: middle;\n",
              "    }\n",
              "\n",
              "    .dataframe tbody tr th {\n",
              "        vertical-align: top;\n",
              "    }\n",
              "\n",
              "    .dataframe thead th {\n",
              "        text-align: right;\n",
              "    }\n",
              "</style>\n",
              "<table border=\"1\" class=\"dataframe\">\n",
              "  <thead>\n",
              "    <tr style=\"text-align: right;\">\n",
              "      <th></th>\n",
              "      <th>XBIS</th>\n",
              "      <th>BHSID</th>\n",
              "      <th>Level1Decision</th>\n",
              "      <th>L2Decision</th>\n",
              "      <th>L2LoginID</th>\n",
              "      <th>L2DecisionTime</th>\n",
              "      <th>L3Decision</th>\n",
              "      <th>L3LoginID</th>\n",
              "      <th>L3DecisionTime</th>\n",
              "      <th>Airlines</th>\n",
              "      <th>L2operatortime</th>\n",
              "      <th>L2operatorsecs</th>\n",
              "    </tr>\n",
              "  </thead>\n",
              "  <tbody>\n",
              "    <tr>\n",
              "      <th>1001241</th>\n",
              "      <td>2</td>\n",
              "      <td>312</td>\n",
              "      <td>2020-07-16 07:26:44</td>\n",
              "      <td>Accept</td>\n",
              "      <td>2927.0</td>\n",
              "      <td>2020-07-16 04:57:00</td>\n",
              "      <td>-</td>\n",
              "      <td>-</td>\n",
              "      <td>NaT</td>\n",
              "      <td>Indigo</td>\n",
              "      <td>-1 days +21:30:16</td>\n",
              "      <td>-8984</td>\n",
              "    </tr>\n",
              "    <tr>\n",
              "      <th>4643</th>\n",
              "      <td>2</td>\n",
              "      <td>312</td>\n",
              "      <td>2020-01-11 03:31:02</td>\n",
              "      <td>Default Reject</td>\n",
              "      <td>NaN</td>\n",
              "      <td>2020-01-11 03:31:02</td>\n",
              "      <td>Accept</td>\n",
              "      <td>32652</td>\n",
              "      <td>2020-01-11 03:31:12</td>\n",
              "      <td>Indigo</td>\n",
              "      <td>0 days 00:00:00</td>\n",
              "      <td>0</td>\n",
              "    </tr>\n",
              "    <tr>\n",
              "      <th>4644</th>\n",
              "      <td>2</td>\n",
              "      <td>000</td>\n",
              "      <td>2020-01-11 03:31:12</td>\n",
              "      <td>Default Reject</td>\n",
              "      <td>NaN</td>\n",
              "      <td>2020-01-11 03:31:12</td>\n",
              "      <td>Accept</td>\n",
              "      <td>32652</td>\n",
              "      <td>2020-01-11 03:31:16</td>\n",
              "      <td>XBIS</td>\n",
              "      <td>0 days 00:00:00</td>\n",
              "      <td>0</td>\n",
              "    </tr>\n",
              "  </tbody>\n",
              "</table>\n",
              "</div>"
            ],
            "text/plain": [
              "         XBIS BHSID  ...    L2operatortime L2operatorsecs\n",
              "1001241     2   312  ... -1 days +21:30:16          -8984\n",
              "4643        2   312  ...   0 days 00:00:00              0\n",
              "4644        2   000  ...   0 days 00:00:00              0\n",
              "\n",
              "[3 rows x 12 columns]"
            ]
          },
          "metadata": {},
          "execution_count": 68
        }
      ]
    },
    {
      "cell_type": "code",
      "metadata": {
        "id": "poQar3mYISTw"
      },
      "source": [
        "datanew=datanew.drop(1001241)"
      ],
      "execution_count": null,
      "outputs": []
    },
    {
      "cell_type": "code",
      "metadata": {
        "id": "4pmzLWjSIg9e",
        "colab": {
          "base_uri": "https://localhost:8080/"
        },
        "outputId": "f56303d2-27e5-400e-c6b8-20e46c789433"
      },
      "source": [
        "print(\"Min secs in operator l2\",datanew[\"L2operatorsecs\"].min())"
      ],
      "execution_count": null,
      "outputs": [
        {
          "output_type": "stream",
          "name": "stdout",
          "text": [
            "Min secs in operator l2 0\n"
          ]
        }
      ]
    },
    {
      "cell_type": "code",
      "metadata": {
        "id": "SLSpzouiV0gi",
        "colab": {
          "base_uri": "https://localhost:8080/"
        },
        "outputId": "376678dc-e927-4e0d-de0b-f1d0ece3a542"
      },
      "source": [
        "## checking null values in L2operator time\n",
        "datanew['L2operatorsecs'].isnull().sum()"
      ],
      "execution_count": null,
      "outputs": [
        {
          "output_type": "execute_result",
          "data": {
            "text/plain": [
              "0"
            ]
          },
          "metadata": {},
          "execution_count": 71
        }
      ]
    },
    {
      "cell_type": "code",
      "metadata": {
        "id": "-qTLCeNkJf9W",
        "colab": {
          "base_uri": "https://localhost:8080/",
          "height": 206
        },
        "outputId": "ee9a6cff-7700-4ab5-8ddf-98f9547b254c"
      },
      "source": [
        "datanew.head()"
      ],
      "execution_count": null,
      "outputs": [
        {
          "output_type": "execute_result",
          "data": {
            "text/html": [
              "<div>\n",
              "<style scoped>\n",
              "    .dataframe tbody tr th:only-of-type {\n",
              "        vertical-align: middle;\n",
              "    }\n",
              "\n",
              "    .dataframe tbody tr th {\n",
              "        vertical-align: top;\n",
              "    }\n",
              "\n",
              "    .dataframe thead th {\n",
              "        text-align: right;\n",
              "    }\n",
              "</style>\n",
              "<table border=\"1\" class=\"dataframe\">\n",
              "  <thead>\n",
              "    <tr style=\"text-align: right;\">\n",
              "      <th></th>\n",
              "      <th>XBIS</th>\n",
              "      <th>BHSID</th>\n",
              "      <th>Level1Decision</th>\n",
              "      <th>L2Decision</th>\n",
              "      <th>L2LoginID</th>\n",
              "      <th>L2DecisionTime</th>\n",
              "      <th>L3Decision</th>\n",
              "      <th>L3LoginID</th>\n",
              "      <th>L3DecisionTime</th>\n",
              "      <th>Airlines</th>\n",
              "      <th>L2operatortime</th>\n",
              "      <th>L2operatorsecs</th>\n",
              "    </tr>\n",
              "  </thead>\n",
              "  <tbody>\n",
              "    <tr>\n",
              "      <th>0</th>\n",
              "      <td>2</td>\n",
              "      <td>312</td>\n",
              "      <td>2020-01-01 00:16:19</td>\n",
              "      <td>Time out</td>\n",
              "      <td>32661.0</td>\n",
              "      <td>2020-01-01 00:16:46</td>\n",
              "      <td>Reject</td>\n",
              "      <td>32887</td>\n",
              "      <td>2020-01-01 00:16:54</td>\n",
              "      <td>Indigo</td>\n",
              "      <td>0 days 00:00:27</td>\n",
              "      <td>27</td>\n",
              "    </tr>\n",
              "    <tr>\n",
              "      <th>1</th>\n",
              "      <td>2</td>\n",
              "      <td>312</td>\n",
              "      <td>2020-01-01 00:19:28</td>\n",
              "      <td>Accept</td>\n",
              "      <td>32661.0</td>\n",
              "      <td>2020-01-01 00:19:41</td>\n",
              "      <td>-</td>\n",
              "      <td>-</td>\n",
              "      <td>NaT</td>\n",
              "      <td>Indigo</td>\n",
              "      <td>0 days 00:00:13</td>\n",
              "      <td>13</td>\n",
              "    </tr>\n",
              "    <tr>\n",
              "      <th>2</th>\n",
              "      <td>2</td>\n",
              "      <td>312</td>\n",
              "      <td>2020-01-01 00:24:39</td>\n",
              "      <td>Accept</td>\n",
              "      <td>32153.0</td>\n",
              "      <td>2020-01-01 00:24:44</td>\n",
              "      <td>-</td>\n",
              "      <td>-</td>\n",
              "      <td>NaT</td>\n",
              "      <td>Indigo</td>\n",
              "      <td>0 days 00:00:05</td>\n",
              "      <td>5</td>\n",
              "    </tr>\n",
              "    <tr>\n",
              "      <th>3</th>\n",
              "      <td>2</td>\n",
              "      <td>312</td>\n",
              "      <td>2020-01-01 00:28:31</td>\n",
              "      <td>Accept</td>\n",
              "      <td>32153.0</td>\n",
              "      <td>2020-01-01 00:28:42</td>\n",
              "      <td>-</td>\n",
              "      <td>-</td>\n",
              "      <td>NaT</td>\n",
              "      <td>Indigo</td>\n",
              "      <td>0 days 00:00:11</td>\n",
              "      <td>11</td>\n",
              "    </tr>\n",
              "    <tr>\n",
              "      <th>4</th>\n",
              "      <td>2</td>\n",
              "      <td>312</td>\n",
              "      <td>2020-01-01 00:33:42</td>\n",
              "      <td>Accept</td>\n",
              "      <td>32153.0</td>\n",
              "      <td>2020-01-01 00:33:47</td>\n",
              "      <td>-</td>\n",
              "      <td>-</td>\n",
              "      <td>NaT</td>\n",
              "      <td>Indigo</td>\n",
              "      <td>0 days 00:00:05</td>\n",
              "      <td>5</td>\n",
              "    </tr>\n",
              "  </tbody>\n",
              "</table>\n",
              "</div>"
            ],
            "text/plain": [
              "   XBIS BHSID      Level1Decision  ... Airlines  L2operatortime L2operatorsecs\n",
              "0     2   312 2020-01-01 00:16:19  ...   Indigo 0 days 00:00:27             27\n",
              "1     2   312 2020-01-01 00:19:28  ...   Indigo 0 days 00:00:13             13\n",
              "2     2   312 2020-01-01 00:24:39  ...   Indigo 0 days 00:00:05              5\n",
              "3     2   312 2020-01-01 00:28:31  ...   Indigo 0 days 00:00:11             11\n",
              "4     2   312 2020-01-01 00:33:42  ...   Indigo 0 days 00:00:05              5\n",
              "\n",
              "[5 rows x 12 columns]"
            ]
          },
          "metadata": {},
          "execution_count": 72
        }
      ]
    },
    {
      "cell_type": "code",
      "metadata": {
        "id": "qTHTzNlvWabh",
        "colab": {
          "base_uri": "https://localhost:8080/",
          "height": 206
        },
        "outputId": "999959a6-5668-4573-b496-e5e1e04108ea"
      },
      "source": [
        "l2_operator = datanew.drop(['XBIS','BHSID',\"Airlines\",'Level1Decision',\"L3Decision\",\"L3LoginID\",\"L3DecisionTime\",'L2operatortime','L2DecisionTime'],axis=1)\n",
        "l2_operator.head()"
      ],
      "execution_count": null,
      "outputs": [
        {
          "output_type": "execute_result",
          "data": {
            "text/html": [
              "<div>\n",
              "<style scoped>\n",
              "    .dataframe tbody tr th:only-of-type {\n",
              "        vertical-align: middle;\n",
              "    }\n",
              "\n",
              "    .dataframe tbody tr th {\n",
              "        vertical-align: top;\n",
              "    }\n",
              "\n",
              "    .dataframe thead th {\n",
              "        text-align: right;\n",
              "    }\n",
              "</style>\n",
              "<table border=\"1\" class=\"dataframe\">\n",
              "  <thead>\n",
              "    <tr style=\"text-align: right;\">\n",
              "      <th></th>\n",
              "      <th>L2Decision</th>\n",
              "      <th>L2LoginID</th>\n",
              "      <th>L2operatorsecs</th>\n",
              "    </tr>\n",
              "  </thead>\n",
              "  <tbody>\n",
              "    <tr>\n",
              "      <th>0</th>\n",
              "      <td>Time out</td>\n",
              "      <td>32661.0</td>\n",
              "      <td>27</td>\n",
              "    </tr>\n",
              "    <tr>\n",
              "      <th>1</th>\n",
              "      <td>Accept</td>\n",
              "      <td>32661.0</td>\n",
              "      <td>13</td>\n",
              "    </tr>\n",
              "    <tr>\n",
              "      <th>2</th>\n",
              "      <td>Accept</td>\n",
              "      <td>32153.0</td>\n",
              "      <td>5</td>\n",
              "    </tr>\n",
              "    <tr>\n",
              "      <th>3</th>\n",
              "      <td>Accept</td>\n",
              "      <td>32153.0</td>\n",
              "      <td>11</td>\n",
              "    </tr>\n",
              "    <tr>\n",
              "      <th>4</th>\n",
              "      <td>Accept</td>\n",
              "      <td>32153.0</td>\n",
              "      <td>5</td>\n",
              "    </tr>\n",
              "  </tbody>\n",
              "</table>\n",
              "</div>"
            ],
            "text/plain": [
              "  L2Decision  L2LoginID  L2operatorsecs\n",
              "0   Time out    32661.0              27\n",
              "1     Accept    32661.0              13\n",
              "2     Accept    32153.0               5\n",
              "3     Accept    32153.0              11\n",
              "4     Accept    32153.0               5"
            ]
          },
          "metadata": {},
          "execution_count": 74
        }
      ]
    },
    {
      "cell_type": "code",
      "metadata": {
        "colab": {
          "base_uri": "https://localhost:8080/",
          "height": 360
        },
        "id": "TMjnMkCL6nsB",
        "outputId": "da8be616-a45e-4a71-de67-a98357108746"
      },
      "source": [
        "# Plot each numeric feature\n",
        "l2_operator.hist(figsize=(14,5), xrot=45)\n",
        "plt.show()"
      ],
      "execution_count": null,
      "outputs": [
        {
          "output_type": "display_data",
          "data": {
            "image/png": "[encoded data removed]",
            "text/plain": [
              "<Figure size 1008x360 with 2 Axes>"
            ]
          },
          "metadata": {}
        }
      ]
    },
    {
      "cell_type": "code",
      "metadata": {
        "colab": {
          "base_uri": "https://localhost:8080/",
          "height": 845
        },
        "id": "qkPW2qv03sxT",
        "outputId": "60649d6e-2e48-4166-b336-433c979b66bc"
      },
      "source": [
        "sns.boxplot(data=l2_operator,x=\"L2Decision\",y=\"L2operatorsecs\")"
      ],
      "execution_count": null,
      "outputs": [
        {
          "output_type": "execute_result",
          "data": {
            "text/plain": [
              "<matplotlib.axes._subplots.AxesSubplot at 0x7fa0a9723090>"
            ]
          },
          "metadata": {},
          "execution_count": 79
        },
        {
          "output_type": "display_data",
          "data": {
            "image/png": "[encoded data removed]",
            "text/plain": [
              "<Figure size 936x1008 with 1 Axes>"
            ]
          },
          "metadata": {}
        }
      ]
    },
    {
      "cell_type": "code",
      "metadata": {
        "id": "o0_5eza63sha"
      },
      "source": [
        "l2_operator=l2_operator[~(l2_operator[\"L2Decision\"].str.contains(\"Default Reject\"))]"
      ],
      "execution_count": null,
      "outputs": []
    },
    {
      "cell_type": "code",
      "metadata": {
        "id": "FF6jXo1CdtmR"
      },
      "source": [
        "l2_operator=l2_operator[~((l2_operator[\"L2Decision\"].str.contains(\"Accept\")) & (l2_operator.L2operatorsecs>25))]\n",
        "\n",
        "l2_operator=l2_operator[~((l2_operator[\"L2Decision\"].str.contains(\"Reject\")) & (l2_operator.L2operatorsecs>25))]\n",
        "\n",
        "l2_operator=l2_operator[~((l2_operator.L2Decision.str.contains(\"Time out\"))& (l2_operator.L2operatorsecs<=25))]"
      ],
      "execution_count": null,
      "outputs": []
    },
    {
      "cell_type": "code",
      "metadata": {
        "colab": {
          "base_uri": "https://localhost:8080/"
        },
        "id": "41i5vXzSdtV0",
        "outputId": "957ab28e-1cd8-4847-a0d5-62074cd0d8ea"
      },
      "source": [
        "l2_operator[\"L2operatorsecs\"].value_counts()"
      ],
      "execution_count": null,
      "outputs": [
        {
          "output_type": "execute_result",
          "data": {
            "text/plain": [
              "9     50238\n",
              "8     49717\n",
              "10    49483\n",
              "7     48629\n",
              "11    48141\n",
              "12    46742\n",
              "6     46458\n",
              "13    44667\n",
              "14    42778\n",
              "5     41490\n",
              "15    40928\n",
              "16    39327\n",
              "17    37738\n",
              "18    36508\n",
              "19    35115\n",
              "22    34596\n",
              "20    34570\n",
              "24    34507\n",
              "23    34490\n",
              "4     34301\n",
              "21    34163\n",
              "25    33753\n",
              "3     18552\n",
              "27    15207\n",
              "28     6080\n",
              "2      3128\n",
              "26     1134\n",
              "1        88\n",
              "29       21\n",
              "31        2\n",
              "58        1\n",
              "34        1\n",
              "36        1\n",
              "53        1\n",
              "68        1\n",
              "Name: L2operatorsecs, dtype: int64"
            ]
          },
          "metadata": {},
          "execution_count": 82
        }
      ]
    },
    {
      "cell_type": "code",
      "metadata": {
        "id": "OKA_rBz7dtF-"
      },
      "source": [
        "bin_labels=[\"Excellent\",\"Good\",\"Normal\",\"Bad\"]"
      ],
      "execution_count": null,
      "outputs": []
    },
    {
      "cell_type": "code",
      "metadata": {
        "colab": {
          "base_uri": "https://localhost:8080/",
          "height": 424
        },
        "id": "0EBlqC7bds2w",
        "outputId": "c9b33192-910b-4b89-961c-8acfa9f025b1"
      },
      "source": [
        "l2_operator[l2_operator[\"L2Decision\"].str.contains(\"Time out\")]"
      ],
      "execution_count": null,
      "outputs": [
        {
          "output_type": "execute_result",
          "data": {
            "text/html": [
              "<div>\n",
              "<style scoped>\n",
              "    .dataframe tbody tr th:only-of-type {\n",
              "        vertical-align: middle;\n",
              "    }\n",
              "\n",
              "    .dataframe tbody tr th {\n",
              "        vertical-align: top;\n",
              "    }\n",
              "\n",
              "    .dataframe thead th {\n",
              "        text-align: right;\n",
              "    }\n",
              "</style>\n",
              "<table border=\"1\" class=\"dataframe\">\n",
              "  <thead>\n",
              "    <tr style=\"text-align: right;\">\n",
              "      <th></th>\n",
              "      <th>L2Decision</th>\n",
              "      <th>L2LoginID</th>\n",
              "      <th>L2operatorsecs</th>\n",
              "    </tr>\n",
              "  </thead>\n",
              "  <tbody>\n",
              "    <tr>\n",
              "      <th>0</th>\n",
              "      <td>Time out</td>\n",
              "      <td>32661.0</td>\n",
              "      <td>27</td>\n",
              "    </tr>\n",
              "    <tr>\n",
              "      <th>14</th>\n",
              "      <td>Time out</td>\n",
              "      <td>31230.0</td>\n",
              "      <td>27</td>\n",
              "    </tr>\n",
              "    <tr>\n",
              "      <th>23</th>\n",
              "      <td>Time out</td>\n",
              "      <td>32878.0</td>\n",
              "      <td>27</td>\n",
              "    </tr>\n",
              "    <tr>\n",
              "      <th>52</th>\n",
              "      <td>Time out</td>\n",
              "      <td>32648.0</td>\n",
              "      <td>28</td>\n",
              "    </tr>\n",
              "    <tr>\n",
              "      <th>120</th>\n",
              "      <td>Time out</td>\n",
              "      <td>32648.0</td>\n",
              "      <td>28</td>\n",
              "    </tr>\n",
              "    <tr>\n",
              "      <th>...</th>\n",
              "      <td>...</td>\n",
              "      <td>...</td>\n",
              "      <td>...</td>\n",
              "    </tr>\n",
              "    <tr>\n",
              "      <th>1048146</th>\n",
              "      <td>Time out</td>\n",
              "      <td>33646.0</td>\n",
              "      <td>27</td>\n",
              "    </tr>\n",
              "    <tr>\n",
              "      <th>1048147</th>\n",
              "      <td>Time out</td>\n",
              "      <td>32149.0</td>\n",
              "      <td>27</td>\n",
              "    </tr>\n",
              "    <tr>\n",
              "      <th>1048150</th>\n",
              "      <td>Time out</td>\n",
              "      <td>33646.0</td>\n",
              "      <td>27</td>\n",
              "    </tr>\n",
              "    <tr>\n",
              "      <th>1048412</th>\n",
              "      <td>Time out</td>\n",
              "      <td>31225.0</td>\n",
              "      <td>27</td>\n",
              "    </tr>\n",
              "    <tr>\n",
              "      <th>1048504</th>\n",
              "      <td>Time out</td>\n",
              "      <td>32149.0</td>\n",
              "      <td>27</td>\n",
              "    </tr>\n",
              "  </tbody>\n",
              "</table>\n",
              "<p>22449 rows × 3 columns</p>\n",
              "</div>"
            ],
            "text/plain": [
              "        L2Decision  L2LoginID  L2operatorsecs\n",
              "0         Time out    32661.0              27\n",
              "14        Time out    31230.0              27\n",
              "23        Time out    32878.0              27\n",
              "52        Time out    32648.0              28\n",
              "120       Time out    32648.0              28\n",
              "...            ...        ...             ...\n",
              "1048146   Time out    33646.0              27\n",
              "1048147   Time out    32149.0              27\n",
              "1048150   Time out    33646.0              27\n",
              "1048412   Time out    31225.0              27\n",
              "1048504   Time out    32149.0              27\n",
              "\n",
              "[22449 rows x 3 columns]"
            ]
          },
          "metadata": {},
          "execution_count": 84
        }
      ]
    },
    {
      "cell_type": "code",
      "metadata": {
        "id": "GyoaSSZmmKjw"
      },
      "source": [
        "l2_operator.loc[(~l2_operator[\"L2Decision\"].str.contains(\"Time out\"))&(l2_operator[\"L2operatorsecs\"]>=0) & (l2_operator[\"L2operatorsecs\"]<8),\"performance\"]=\"Excellent\""
      ],
      "execution_count": null,
      "outputs": []
    },
    {
      "cell_type": "code",
      "metadata": {
        "id": "glWzRLgEmKTr"
      },
      "source": [
        "l2_operator.loc[(~l2_operator[\"L2Decision\"].str.contains(\"Time out\"))&(l2_operator[\"L2operatorsecs\"]>=8) & (l2_operator[\"L2operatorsecs\"]<17),\"performance\"]=\"Good\"\n",
        "\n",
        "l2_operator.loc[(~l2_operator[\"L2Decision\"].str.contains(\"Time out\"))&(l2_operator[\"L2operatorsecs\"]>=17) & (l2_operator[\"L2operatorsecs\"]<=25),\"performance\"]=\"Normal\"\n",
        "\n",
        "l2_operator.loc[(l2_operator[\"L2Decision\"].str.contains(\"Time out\"))& (l2_operator[\"L2operatorsecs\"]>25) ,\"performance\"]=\"Bad\"\n"
      ],
      "execution_count": null,
      "outputs": []
    },
    {
      "cell_type": "code",
      "metadata": {
        "id": "KNX9MBLb1dkS",
        "colab": {
          "base_uri": "https://localhost:8080/"
        },
        "outputId": "dcdd2b6c-3e02-4550-ee1f-1ad570676863"
      },
      "source": [
        "l2_operator['performance'].value_counts()\n"
      ],
      "execution_count": null,
      "outputs": [
        {
          "output_type": "execute_result",
          "data": {
            "text/plain": [
              "Good         412021\n",
              "Normal       315440\n",
              "Excellent    192646\n",
              "Bad           22449\n",
              "Name: performance, dtype: int64"
            ]
          },
          "metadata": {},
          "execution_count": 87
        }
      ]
    },
    {
      "cell_type": "code",
      "metadata": {
        "id": "lkRDCVzIdLy7",
        "colab": {
          "base_uri": "https://localhost:8080/"
        },
        "outputId": "f4c5f66f-8b3e-4fb5-d74a-5eb1a691c1c6"
      },
      "source": [
        "l2_operator['L2Decision'].value_counts()"
      ],
      "execution_count": null,
      "outputs": [
        {
          "output_type": "execute_result",
          "data": {
            "text/plain": [
              "Accept      755936\n",
              "Reject      164171\n",
              "Time out     22449\n",
              "Name: L2Decision, dtype: int64"
            ]
          },
          "metadata": {},
          "execution_count": 88
        }
      ]
    },
    {
      "cell_type": "code",
      "metadata": {
        "colab": {
          "base_uri": "https://localhost:8080/",
          "height": 339
        },
        "id": "-mbJTXBjAi7t",
        "outputId": "cc2f11de-4e1b-4b34-8c1e-f69f773f13f0"
      },
      "source": [
        "sns.countplot(x=\"L2Decision\",data=l2_operator,order=pd.value_counts(l2_operator[\"L2Decision\"]).index)\n",
        "sns.set(rc={'figure.figsize':(5,5)})"
      ],
      "execution_count": null,
      "outputs": [
        {
          "output_type": "display_data",
          "data": {
            "image/png": "[encoded data removed]",
            "text/plain": [
              "<Figure size 360x360 with 1 Axes>"
            ]
          },
          "metadata": {}
        }
      ]
    },
    {
      "cell_type": "code",
      "metadata": {
        "id": "TTY7RASO2Ced",
        "colab": {
          "base_uri": "https://localhost:8080/"
        },
        "outputId": "be2f7b5d-f06e-42e0-9fe9-b5209a03b324"
      },
      "source": [
        "l2_operator.shape"
      ],
      "execution_count": null,
      "outputs": [
        {
          "output_type": "execute_result",
          "data": {
            "text/plain": [
              "(942556, 4)"
            ]
          },
          "metadata": {},
          "execution_count": 89
        }
      ]
    },
    {
      "cell_type": "code",
      "metadata": {
        "id": "rtLqKDSQn5Js",
        "colab": {
          "base_uri": "https://localhost:8080/",
          "height": 424
        },
        "outputId": "18eb8d59-f60c-43ba-d21b-51c0c190e5ee"
      },
      "source": [
        "l2_operator"
      ],
      "execution_count": null,
      "outputs": [
        {
          "output_type": "execute_result",
          "data": {
            "text/html": [
              "<div>\n",
              "<style scoped>\n",
              "    .dataframe tbody tr th:only-of-type {\n",
              "        vertical-align: middle;\n",
              "    }\n",
              "\n",
              "    .dataframe tbody tr th {\n",
              "        vertical-align: top;\n",
              "    }\n",
              "\n",
              "    .dataframe thead th {\n",
              "        text-align: right;\n",
              "    }\n",
              "</style>\n",
              "<table border=\"1\" class=\"dataframe\">\n",
              "  <thead>\n",
              "    <tr style=\"text-align: right;\">\n",
              "      <th></th>\n",
              "      <th>L2Decision</th>\n",
              "      <th>L2LoginID</th>\n",
              "      <th>L2operatorsecs</th>\n",
              "      <th>performance</th>\n",
              "    </tr>\n",
              "  </thead>\n",
              "  <tbody>\n",
              "    <tr>\n",
              "      <th>0</th>\n",
              "      <td>Time out</td>\n",
              "      <td>32661.0</td>\n",
              "      <td>27</td>\n",
              "      <td>Bad</td>\n",
              "    </tr>\n",
              "    <tr>\n",
              "      <th>1</th>\n",
              "      <td>Accept</td>\n",
              "      <td>32661.0</td>\n",
              "      <td>13</td>\n",
              "      <td>Good</td>\n",
              "    </tr>\n",
              "    <tr>\n",
              "      <th>2</th>\n",
              "      <td>Accept</td>\n",
              "      <td>32153.0</td>\n",
              "      <td>5</td>\n",
              "      <td>Excellent</td>\n",
              "    </tr>\n",
              "    <tr>\n",
              "      <th>3</th>\n",
              "      <td>Accept</td>\n",
              "      <td>32153.0</td>\n",
              "      <td>11</td>\n",
              "      <td>Good</td>\n",
              "    </tr>\n",
              "    <tr>\n",
              "      <th>4</th>\n",
              "      <td>Accept</td>\n",
              "      <td>32153.0</td>\n",
              "      <td>5</td>\n",
              "      <td>Excellent</td>\n",
              "    </tr>\n",
              "    <tr>\n",
              "      <th>...</th>\n",
              "      <td>...</td>\n",
              "      <td>...</td>\n",
              "      <td>...</td>\n",
              "      <td>...</td>\n",
              "    </tr>\n",
              "    <tr>\n",
              "      <th>1048569</th>\n",
              "      <td>Accept</td>\n",
              "      <td>34243.0</td>\n",
              "      <td>14</td>\n",
              "      <td>Good</td>\n",
              "    </tr>\n",
              "    <tr>\n",
              "      <th>1048570</th>\n",
              "      <td>Accept</td>\n",
              "      <td>32797.0</td>\n",
              "      <td>20</td>\n",
              "      <td>Normal</td>\n",
              "    </tr>\n",
              "    <tr>\n",
              "      <th>1048571</th>\n",
              "      <td>Accept</td>\n",
              "      <td>36548.0</td>\n",
              "      <td>16</td>\n",
              "      <td>Good</td>\n",
              "    </tr>\n",
              "    <tr>\n",
              "      <th>1048572</th>\n",
              "      <td>Accept</td>\n",
              "      <td>34243.0</td>\n",
              "      <td>25</td>\n",
              "      <td>Normal</td>\n",
              "    </tr>\n",
              "    <tr>\n",
              "      <th>1048573</th>\n",
              "      <td>Reject</td>\n",
              "      <td>32797.0</td>\n",
              "      <td>13</td>\n",
              "      <td>Good</td>\n",
              "    </tr>\n",
              "  </tbody>\n",
              "</table>\n",
              "<p>942556 rows × 4 columns</p>\n",
              "</div>"
            ],
            "text/plain": [
              "        L2Decision  L2LoginID  L2operatorsecs performance\n",
              "0         Time out    32661.0              27         Bad\n",
              "1           Accept    32661.0              13        Good\n",
              "2           Accept    32153.0               5   Excellent\n",
              "3           Accept    32153.0              11        Good\n",
              "4           Accept    32153.0               5   Excellent\n",
              "...            ...        ...             ...         ...\n",
              "1048569     Accept    34243.0              14        Good\n",
              "1048570     Accept    32797.0              20      Normal\n",
              "1048571     Accept    36548.0              16        Good\n",
              "1048572     Accept    34243.0              25      Normal\n",
              "1048573     Reject    32797.0              13        Good\n",
              "\n",
              "[942556 rows x 4 columns]"
            ]
          },
          "metadata": {},
          "execution_count": 90
        }
      ]
    },
    {
      "cell_type": "code",
      "metadata": {
        "colab": {
          "base_uri": "https://localhost:8080/"
        },
        "id": "R4VObpJRAH9S",
        "outputId": "dfb526c9-aab2-4604-e41e-2d7269ec45f7"
      },
      "source": [
        "l2_operator['L2Decision'].value_counts()"
      ],
      "execution_count": null,
      "outputs": [
        {
          "output_type": "execute_result",
          "data": {
            "text/plain": [
              "Accept      755936\n",
              "Reject      164171\n",
              "Time out     22449\n",
              "Name: L2Decision, dtype: int64"
            ]
          },
          "metadata": {},
          "execution_count": 123
        }
      ]
    },
    {
      "cell_type": "markdown",
      "metadata": {
        "id": "PwWKI9RXmjSB"
      },
      "source": [
        "**Operator3**"
      ]
    },
    {
      "cell_type": "code",
      "metadata": {
        "id": "lSO-LaifIzqn"
      },
      "source": [
        "### Operator 3 performance (L3-L2)\n",
        "datanew['L3operatortime']=datanew['L3DecisionTime']-datanew['L2DecisionTime']\n",
        "\n",
        "### To convert L3 time in seconds ###\n",
        "datanew['L3operatorsecs']=datanew['L3operatortime']/np.timedelta64(1,'s')"
      ],
      "execution_count": null,
      "outputs": []
    },
    {
      "cell_type": "code",
      "metadata": {
        "id": "UCbWBnPTJ3V1",
        "colab": {
          "base_uri": "https://localhost:8080/"
        },
        "outputId": "5884c4f9-b347-4f11-c6e9-31e024b3995c"
      },
      "source": [
        "print(\"time differences mean:\",datanew[\"L3operatorsecs\"].mean())\n",
        "print(\"max of :\",datanew[\"L3operatorsecs\"].max())\n",
        "print(\"min of :\",datanew[\"L3operatorsecs\"].min())"
      ],
      "execution_count": null,
      "outputs": [
        {
          "output_type": "stream",
          "name": "stdout",
          "text": [
            "time differences mean: 25.09444819003278\n",
            "max of : 146.0\n",
            "min of : 0.0\n"
          ]
        }
      ]
    },
    {
      "cell_type": "code",
      "metadata": {
        "id": "bD8pXbF_KznR",
        "colab": {
          "base_uri": "https://localhost:8080/",
          "height": 216
        },
        "outputId": "ba1fe746-4f55-42ac-f981-f9e94a90fec5"
      },
      "source": [
        "datanew.nlargest(3,\"L3operatorsecs\")"
      ],
      "execution_count": null,
      "outputs": [
        {
          "output_type": "execute_result",
          "data": {
            "text/html": [
              "<div>\n",
              "<style scoped>\n",
              "    .dataframe tbody tr th:only-of-type {\n",
              "        vertical-align: middle;\n",
              "    }\n",
              "\n",
              "    .dataframe tbody tr th {\n",
              "        vertical-align: top;\n",
              "    }\n",
              "\n",
              "    .dataframe thead th {\n",
              "        text-align: right;\n",
              "    }\n",
              "</style>\n",
              "<table border=\"1\" class=\"dataframe\">\n",
              "  <thead>\n",
              "    <tr style=\"text-align: right;\">\n",
              "      <th></th>\n",
              "      <th>XBIS</th>\n",
              "      <th>BHSID</th>\n",
              "      <th>Level1Decision</th>\n",
              "      <th>L2Decision</th>\n",
              "      <th>L2LoginID</th>\n",
              "      <th>L2DecisionTime</th>\n",
              "      <th>L3Decision</th>\n",
              "      <th>L3LoginID</th>\n",
              "      <th>L3DecisionTime</th>\n",
              "      <th>Airlines</th>\n",
              "      <th>L2operatortime</th>\n",
              "      <th>L2operatorsecs</th>\n",
              "      <th>L3operatortime</th>\n",
              "      <th>L3operatorsecs</th>\n",
              "    </tr>\n",
              "  </thead>\n",
              "  <tbody>\n",
              "    <tr>\n",
              "      <th>142357</th>\n",
              "      <td>2</td>\n",
              "      <td>312</td>\n",
              "      <td>2020-01-13 12:17:04</td>\n",
              "      <td>Reject</td>\n",
              "      <td>31230.0</td>\n",
              "      <td>2020-01-13 12:17:09</td>\n",
              "      <td>Default Reject</td>\n",
              "      <td>36548</td>\n",
              "      <td>2020-01-13 12:19:35</td>\n",
              "      <td>Indigo</td>\n",
              "      <td>0 days 00:00:05</td>\n",
              "      <td>5</td>\n",
              "      <td>0 days 00:02:26</td>\n",
              "      <td>146.0</td>\n",
              "    </tr>\n",
              "    <tr>\n",
              "      <th>174652</th>\n",
              "      <td>3</td>\n",
              "      <td>775</td>\n",
              "      <td>2020-01-14 08:08:22</td>\n",
              "      <td>Reject</td>\n",
              "      <td>2918.0</td>\n",
              "      <td>2020-01-14 08:08:48</td>\n",
              "      <td>Default Reject</td>\n",
              "      <td>5944</td>\n",
              "      <td>2020-01-14 08:11:14</td>\n",
              "      <td>SpiceJet</td>\n",
              "      <td>0 days 00:00:26</td>\n",
              "      <td>26</td>\n",
              "      <td>0 days 00:02:26</td>\n",
              "      <td>146.0</td>\n",
              "    </tr>\n",
              "    <tr>\n",
              "      <th>501003</th>\n",
              "      <td>3</td>\n",
              "      <td>312</td>\n",
              "      <td>2020-02-29 19:08:28</td>\n",
              "      <td>Reject</td>\n",
              "      <td>2918.0</td>\n",
              "      <td>2020-02-29 19:08:52</td>\n",
              "      <td>Default Reject</td>\n",
              "      <td>32149</td>\n",
              "      <td>2020-02-29 19:11:18</td>\n",
              "      <td>Indigo</td>\n",
              "      <td>0 days 00:00:24</td>\n",
              "      <td>24</td>\n",
              "      <td>0 days 00:02:26</td>\n",
              "      <td>146.0</td>\n",
              "    </tr>\n",
              "  </tbody>\n",
              "</table>\n",
              "</div>"
            ],
            "text/plain": [
              "        XBIS BHSID  ...  L3operatortime L3operatorsecs\n",
              "142357     2   312  ... 0 days 00:02:26          146.0\n",
              "174652     3   775  ... 0 days 00:02:26          146.0\n",
              "501003     3   312  ... 0 days 00:02:26          146.0\n",
              "\n",
              "[3 rows x 14 columns]"
            ]
          },
          "metadata": {},
          "execution_count": 93
        }
      ]
    },
    {
      "cell_type": "code",
      "metadata": {
        "id": "yD5N52-OK_zE",
        "colab": {
          "base_uri": "https://localhost:8080/",
          "height": 216
        },
        "outputId": "62f754b8-9f80-4280-8e58-605729557f4a"
      },
      "source": [
        "datanew.nsmallest(3,\"L3operatorsecs\")"
      ],
      "execution_count": null,
      "outputs": [
        {
          "output_type": "execute_result",
          "data": {
            "text/html": [
              "<div>\n",
              "<style scoped>\n",
              "    .dataframe tbody tr th:only-of-type {\n",
              "        vertical-align: middle;\n",
              "    }\n",
              "\n",
              "    .dataframe tbody tr th {\n",
              "        vertical-align: top;\n",
              "    }\n",
              "\n",
              "    .dataframe thead th {\n",
              "        text-align: right;\n",
              "    }\n",
              "</style>\n",
              "<table border=\"1\" class=\"dataframe\">\n",
              "  <thead>\n",
              "    <tr style=\"text-align: right;\">\n",
              "      <th></th>\n",
              "      <th>XBIS</th>\n",
              "      <th>BHSID</th>\n",
              "      <th>Level1Decision</th>\n",
              "      <th>L2Decision</th>\n",
              "      <th>L2LoginID</th>\n",
              "      <th>L2DecisionTime</th>\n",
              "      <th>L3Decision</th>\n",
              "      <th>L3LoginID</th>\n",
              "      <th>L3DecisionTime</th>\n",
              "      <th>Airlines</th>\n",
              "      <th>L2operatortime</th>\n",
              "      <th>L2operatorsecs</th>\n",
              "      <th>L3operatortime</th>\n",
              "      <th>L3operatorsecs</th>\n",
              "    </tr>\n",
              "  </thead>\n",
              "  <tbody>\n",
              "    <tr>\n",
              "      <th>13274</th>\n",
              "      <td>4</td>\n",
              "      <td>001</td>\n",
              "      <td>2020-01-11 06:03:01</td>\n",
              "      <td>Default Reject</td>\n",
              "      <td>NaN</td>\n",
              "      <td>2020-01-11 06:03:23</td>\n",
              "      <td>Default Reject</td>\n",
              "      <td>NaN</td>\n",
              "      <td>2020-01-11 06:03:23</td>\n",
              "      <td>American Airlines</td>\n",
              "      <td>0 days 00:00:22</td>\n",
              "      <td>22</td>\n",
              "      <td>0 days</td>\n",
              "      <td>0.0</td>\n",
              "    </tr>\n",
              "    <tr>\n",
              "      <th>13275</th>\n",
              "      <td>3</td>\n",
              "      <td>775</td>\n",
              "      <td>2020-01-11 06:03:02</td>\n",
              "      <td>Default Reject</td>\n",
              "      <td>NaN</td>\n",
              "      <td>2020-01-11 06:03:23</td>\n",
              "      <td>Default Reject</td>\n",
              "      <td>NaN</td>\n",
              "      <td>2020-01-11 06:03:23</td>\n",
              "      <td>SpiceJet</td>\n",
              "      <td>0 days 00:00:21</td>\n",
              "      <td>21</td>\n",
              "      <td>0 days</td>\n",
              "      <td>0.0</td>\n",
              "    </tr>\n",
              "    <tr>\n",
              "      <th>13276</th>\n",
              "      <td>4</td>\n",
              "      <td>098</td>\n",
              "      <td>2020-01-11 06:03:03</td>\n",
              "      <td>Reject</td>\n",
              "      <td>32792.0</td>\n",
              "      <td>2020-01-11 06:03:30</td>\n",
              "      <td>Default Reject</td>\n",
              "      <td>NaN</td>\n",
              "      <td>2020-01-11 06:03:30</td>\n",
              "      <td>Air India</td>\n",
              "      <td>0 days 00:00:27</td>\n",
              "      <td>27</td>\n",
              "      <td>0 days</td>\n",
              "      <td>0.0</td>\n",
              "    </tr>\n",
              "  </tbody>\n",
              "</table>\n",
              "</div>"
            ],
            "text/plain": [
              "       XBIS BHSID  ... L3operatortime L3operatorsecs\n",
              "13274     4   001  ...         0 days            0.0\n",
              "13275     3   775  ...         0 days            0.0\n",
              "13276     4   098  ...         0 days            0.0\n",
              "\n",
              "[3 rows x 14 columns]"
            ]
          },
          "metadata": {},
          "execution_count": 94
        }
      ]
    },
    {
      "cell_type": "code",
      "metadata": {
        "id": "PurxHbraLMbW",
        "colab": {
          "base_uri": "https://localhost:8080/"
        },
        "outputId": "c99ebf7f-9270-41c2-8acd-051f62d5301b"
      },
      "source": [
        "print(\"Min secs in operator l3\",datanew[\"L3operatorsecs\"].min())"
      ],
      "execution_count": null,
      "outputs": [
        {
          "output_type": "stream",
          "name": "stdout",
          "text": [
            "Min secs in operator l3 0.0\n"
          ]
        }
      ]
    },
    {
      "cell_type": "code",
      "metadata": {
        "colab": {
          "base_uri": "https://localhost:8080/"
        },
        "id": "mikeCze8pTCl",
        "outputId": "0aa47607-1798-459f-e499-ca52ed8ec66d"
      },
      "source": [
        "## checking null values in L3operator time\n",
        "datanew['L3operatorsecs'].isnull().sum()"
      ],
      "execution_count": null,
      "outputs": [
        {
          "output_type": "execute_result",
          "data": {
            "text/plain": [
              "812740"
            ]
          },
          "metadata": {},
          "execution_count": 105
        }
      ]
    },
    {
      "cell_type": "code",
      "metadata": {
        "colab": {
          "base_uri": "https://localhost:8080/"
        },
        "id": "1GJeEncsLtMC",
        "outputId": "2d5dca93-0fe0-4e65-a3c3-1780da9663c1"
      },
      "source": [
        "datanew.columns"
      ],
      "execution_count": null,
      "outputs": [
        {
          "output_type": "execute_result",
          "data": {
            "text/plain": [
              "Index(['XBIS', 'BHSID', 'Level1Decision', 'L2Decision', 'L2LoginID',\n",
              "       'L2DecisionTime', 'L3Decision', 'L3LoginID', 'L3DecisionTime',\n",
              "       'Airlines', 'L2operatortime', 'L2operatorsecs', 'L3operatortime',\n",
              "       'L3operatorsecs'],\n",
              "      dtype='object')"
            ]
          },
          "metadata": {},
          "execution_count": 106
        }
      ]
    },
    {
      "cell_type": "code",
      "metadata": {
        "id": "VfKVdz-NpS-L"
      },
      "source": [
        "l3_operator=datanew.drop(['XBIS', 'BHSID', 'Level1Decision', 'L2Decision', 'L2LoginID','L2DecisionTime','L3DecisionTime','Airlines', 'L2operatortime', 'L2operatorsecs', 'L3operatortime'],axis=1)"
      ],
      "execution_count": null,
      "outputs": []
    },
    {
      "cell_type": "code",
      "metadata": {
        "colab": {
          "base_uri": "https://localhost:8080/",
          "height": 424
        },
        "id": "JTM-etL2MkzZ",
        "outputId": "e70706f2-ca04-490b-da7d-8d04bfc402d8"
      },
      "source": [
        "l3_operator"
      ],
      "execution_count": null,
      "outputs": [
        {
          "output_type": "execute_result",
          "data": {
            "text/html": [
              "<div>\n",
              "<style scoped>\n",
              "    .dataframe tbody tr th:only-of-type {\n",
              "        vertical-align: middle;\n",
              "    }\n",
              "\n",
              "    .dataframe tbody tr th {\n",
              "        vertical-align: top;\n",
              "    }\n",
              "\n",
              "    .dataframe thead th {\n",
              "        text-align: right;\n",
              "    }\n",
              "</style>\n",
              "<table border=\"1\" class=\"dataframe\">\n",
              "  <thead>\n",
              "    <tr style=\"text-align: right;\">\n",
              "      <th></th>\n",
              "      <th>L3Decision</th>\n",
              "      <th>L3LoginID</th>\n",
              "      <th>L3operatorsecs</th>\n",
              "    </tr>\n",
              "  </thead>\n",
              "  <tbody>\n",
              "    <tr>\n",
              "      <th>0</th>\n",
              "      <td>Reject</td>\n",
              "      <td>32887</td>\n",
              "      <td>8.0</td>\n",
              "    </tr>\n",
              "    <tr>\n",
              "      <th>1</th>\n",
              "      <td>-</td>\n",
              "      <td>-</td>\n",
              "      <td>NaN</td>\n",
              "    </tr>\n",
              "    <tr>\n",
              "      <th>2</th>\n",
              "      <td>-</td>\n",
              "      <td>-</td>\n",
              "      <td>NaN</td>\n",
              "    </tr>\n",
              "    <tr>\n",
              "      <th>3</th>\n",
              "      <td>-</td>\n",
              "      <td>-</td>\n",
              "      <td>NaN</td>\n",
              "    </tr>\n",
              "    <tr>\n",
              "      <th>4</th>\n",
              "      <td>-</td>\n",
              "      <td>-</td>\n",
              "      <td>NaN</td>\n",
              "    </tr>\n",
              "    <tr>\n",
              "      <th>...</th>\n",
              "      <td>...</td>\n",
              "      <td>...</td>\n",
              "      <td>...</td>\n",
              "    </tr>\n",
              "    <tr>\n",
              "      <th>1048569</th>\n",
              "      <td>-</td>\n",
              "      <td>-</td>\n",
              "      <td>NaN</td>\n",
              "    </tr>\n",
              "    <tr>\n",
              "      <th>1048570</th>\n",
              "      <td>-</td>\n",
              "      <td>-</td>\n",
              "      <td>NaN</td>\n",
              "    </tr>\n",
              "    <tr>\n",
              "      <th>1048571</th>\n",
              "      <td>-</td>\n",
              "      <td>-</td>\n",
              "      <td>NaN</td>\n",
              "    </tr>\n",
              "    <tr>\n",
              "      <th>1048572</th>\n",
              "      <td>-</td>\n",
              "      <td>-</td>\n",
              "      <td>NaN</td>\n",
              "    </tr>\n",
              "    <tr>\n",
              "      <th>1048573</th>\n",
              "      <td>Reject</td>\n",
              "      <td>4402</td>\n",
              "      <td>37.0</td>\n",
              "    </tr>\n",
              "  </tbody>\n",
              "</table>\n",
              "<p>1048573 rows × 3 columns</p>\n",
              "</div>"
            ],
            "text/plain": [
              "        L3Decision L3LoginID  L3operatorsecs\n",
              "0           Reject     32887             8.0\n",
              "1                -         -             NaN\n",
              "2                -         -             NaN\n",
              "3                -         -             NaN\n",
              "4                -         -             NaN\n",
              "...            ...       ...             ...\n",
              "1048569          -         -             NaN\n",
              "1048570          -         -             NaN\n",
              "1048571          -         -             NaN\n",
              "1048572          -         -             NaN\n",
              "1048573     Reject      4402            37.0\n",
              "\n",
              "[1048573 rows x 3 columns]"
            ]
          },
          "metadata": {},
          "execution_count": 108
        }
      ]
    },
    {
      "cell_type": "code",
      "metadata": {
        "colab": {
          "base_uri": "https://localhost:8080/",
          "height": 345
        },
        "id": "GDiKRVID-JpB",
        "outputId": "53a9ae3b-cc88-4f23-ce2d-a6e9d7b80882"
      },
      "source": [
        "# Plot each numeric feature\n",
        "l3_operator.hist(figsize=(10,5), xrot=45)\n",
        "plt.show()"
      ],
      "execution_count": null,
      "outputs": [
        {
          "output_type": "display_data",
          "data": {
            "image/png": "[encoded data removed]",
            "text/plain": [
              "<Figure size 720x360 with 1 Axes>"
            ]
          },
          "metadata": {}
        }
      ]
    },
    {
      "cell_type": "code",
      "metadata": {
        "id": "6DKUj9BTpS72"
      },
      "source": [
        "l3_operator=l3_operator[~(l3_operator[\"L3Decision\"].str.contains(\"-\"))]"
      ],
      "execution_count": null,
      "outputs": []
    },
    {
      "cell_type": "code",
      "metadata": {
        "colab": {
          "base_uri": "https://localhost:8080/"
        },
        "id": "Hd-j5cd1pS5J",
        "outputId": "dec7f36d-0ec8-45c9-e3a8-1e7751a17e8a"
      },
      "source": [
        "l3_operator.isna().sum()"
      ],
      "execution_count": null,
      "outputs": [
        {
          "output_type": "execute_result",
          "data": {
            "text/plain": [
              "L3Decision           0\n",
              "L3LoginID         1798\n",
              "L3operatorsecs       0\n",
              "dtype: int64"
            ]
          },
          "metadata": {},
          "execution_count": 110
        }
      ]
    },
    {
      "cell_type": "code",
      "metadata": {
        "id": "jRE7SVz4pS3D"
      },
      "source": [
        "l3_operator=l3_operator[~(l3_operator[\"L3Decision\"].str.contains(\"Default Reject\"))]"
      ],
      "execution_count": null,
      "outputs": []
    },
    {
      "cell_type": "code",
      "metadata": {
        "colab": {
          "base_uri": "https://localhost:8080/"
        },
        "id": "bbMnAkZNpStC",
        "outputId": "be887801-c4db-4b4b-bcef-3f3ce645bc00"
      },
      "source": [
        "l3_operator[\"L3Decision\"].value_counts()"
      ],
      "execution_count": null,
      "outputs": [
        {
          "output_type": "execute_result",
          "data": {
            "text/plain": [
              "Accept      149033\n",
              "Reject       81713\n",
              "Time out      3169\n",
              "Name: L3Decision, dtype: int64"
            ]
          },
          "metadata": {},
          "execution_count": 112
        }
      ]
    },
    {
      "cell_type": "code",
      "metadata": {
        "id": "uXmHW-5epSh-"
      },
      "source": [
        "l3_operator=l3_operator[~(l3_operator[\"L3Decision\"].str.contains(\"Accept\") & (l3_operator.L3operatorsecs>60))]\n",
        "\n",
        "l3_operator=l3_operator[~(l3_operator[\"L3Decision\"].str.contains(\"Reject\") & (l3_operator.L3operatorsecs>60))]\n",
        "\n",
        "l3_operator=l3_operator[~(l3_operator[\"L3Decision\"].str.contains(\"Time out\") & (l3_operator.L3operatorsecs<60))]"
      ],
      "execution_count": null,
      "outputs": []
    },
    {
      "cell_type": "code",
      "metadata": {
        "id": "wA2ll0s7pSTU"
      },
      "source": [
        "l3_operator.loc[(~l3_operator[\"L3Decision\"].str.contains(\"Time out\"))&(l3_operator[\"L3operatorsecs\"]>=0) & (l3_operator[\"L3operatorsecs\"]<20),\"performance\"]=\"Excellent\""
      ],
      "execution_count": null,
      "outputs": []
    },
    {
      "cell_type": "code",
      "metadata": {
        "id": "rKbTqJy6rdc6"
      },
      "source": [
        "l3_operator.loc[(~l3_operator[\"L3Decision\"].str.contains(\"Time out\"))&(l3_operator[\"L3operatorsecs\"]>=20) & (l3_operator[\"L3operatorsecs\"]<40),\"performance\"]=\"Good\"\n",
        "\n",
        "l3_operator.loc[(~l3_operator[\"L3Decision\"].str.contains(\"Time out\"))&(l3_operator[\"L3operatorsecs\"]>=40) & (l3_operator[\"L3operatorsecs\"]<=60),\"performance\"]=\"Normal\"\n",
        "\n",
        "l3_operator.loc[(l3_operator[\"L3Decision\"].str.contains(\"Time out\"))& (l3_operator[\"L3operatorsecs\"]>60) ,\"performance\"]=\"Bad\""
      ],
      "execution_count": null,
      "outputs": []
    },
    {
      "cell_type": "code",
      "metadata": {
        "colab": {
          "base_uri": "https://localhost:8080/"
        },
        "id": "e65nt8NNrdX4",
        "outputId": "80a49766-346c-4e79-ba6a-2c2e8c158646"
      },
      "source": [
        "l3_operator.isna().sum()"
      ],
      "execution_count": null,
      "outputs": [
        {
          "output_type": "execute_result",
          "data": {
            "text/plain": [
              "L3Decision        0\n",
              "L3LoginID         0\n",
              "L3operatorsecs    0\n",
              "performance       0\n",
              "dtype: int64"
            ]
          },
          "metadata": {},
          "execution_count": 116
        }
      ]
    },
    {
      "cell_type": "code",
      "metadata": {
        "colab": {
          "base_uri": "https://localhost:8080/"
        },
        "id": "_MkbaoI1rdWR",
        "outputId": "3d65e8d4-dcc6-4354-adf2-d6b13f2c658c"
      },
      "source": [
        "l3_operator[\"performance\"].value_counts()"
      ],
      "execution_count": null,
      "outputs": [
        {
          "output_type": "execute_result",
          "data": {
            "text/plain": [
              "Excellent    110473\n",
              "Good          76913\n",
              "Normal        39300\n",
              "Bad            3164\n",
              "Name: performance, dtype: int64"
            ]
          },
          "metadata": {},
          "execution_count": 117
        }
      ]
    },
    {
      "cell_type": "code",
      "metadata": {
        "colab": {
          "base_uri": "https://localhost:8080/",
          "height": 424
        },
        "id": "wlsnJprtrdMW",
        "outputId": "4e1e0e71-b404-466e-b5f1-66a9500e869b"
      },
      "source": [
        "l3_operator"
      ],
      "execution_count": null,
      "outputs": [
        {
          "output_type": "execute_result",
          "data": {
            "text/html": [
              "<div>\n",
              "<style scoped>\n",
              "    .dataframe tbody tr th:only-of-type {\n",
              "        vertical-align: middle;\n",
              "    }\n",
              "\n",
              "    .dataframe tbody tr th {\n",
              "        vertical-align: top;\n",
              "    }\n",
              "\n",
              "    .dataframe thead th {\n",
              "        text-align: right;\n",
              "    }\n",
              "</style>\n",
              "<table border=\"1\" class=\"dataframe\">\n",
              "  <thead>\n",
              "    <tr style=\"text-align: right;\">\n",
              "      <th></th>\n",
              "      <th>L3Decision</th>\n",
              "      <th>L3LoginID</th>\n",
              "      <th>L3operatorsecs</th>\n",
              "      <th>performance</th>\n",
              "    </tr>\n",
              "  </thead>\n",
              "  <tbody>\n",
              "    <tr>\n",
              "      <th>0</th>\n",
              "      <td>Reject</td>\n",
              "      <td>32887</td>\n",
              "      <td>8.0</td>\n",
              "      <td>Excellent</td>\n",
              "    </tr>\n",
              "    <tr>\n",
              "      <th>8</th>\n",
              "      <td>Accept</td>\n",
              "      <td>32887</td>\n",
              "      <td>42.0</td>\n",
              "      <td>Normal</td>\n",
              "    </tr>\n",
              "    <tr>\n",
              "      <th>9</th>\n",
              "      <td>Reject</td>\n",
              "      <td>5525</td>\n",
              "      <td>9.0</td>\n",
              "      <td>Excellent</td>\n",
              "    </tr>\n",
              "    <tr>\n",
              "      <th>12</th>\n",
              "      <td>Reject</td>\n",
              "      <td>5525</td>\n",
              "      <td>9.0</td>\n",
              "      <td>Excellent</td>\n",
              "    </tr>\n",
              "    <tr>\n",
              "      <th>14</th>\n",
              "      <td>Accept</td>\n",
              "      <td>32887</td>\n",
              "      <td>24.0</td>\n",
              "      <td>Good</td>\n",
              "    </tr>\n",
              "    <tr>\n",
              "      <th>...</th>\n",
              "      <td>...</td>\n",
              "      <td>...</td>\n",
              "      <td>...</td>\n",
              "      <td>...</td>\n",
              "    </tr>\n",
              "    <tr>\n",
              "      <th>1048547</th>\n",
              "      <td>Accept</td>\n",
              "      <td>32661</td>\n",
              "      <td>14.0</td>\n",
              "      <td>Excellent</td>\n",
              "    </tr>\n",
              "    <tr>\n",
              "      <th>1048560</th>\n",
              "      <td>Accept</td>\n",
              "      <td>6320</td>\n",
              "      <td>41.0</td>\n",
              "      <td>Normal</td>\n",
              "    </tr>\n",
              "    <tr>\n",
              "      <th>1048561</th>\n",
              "      <td>Accept</td>\n",
              "      <td>4402</td>\n",
              "      <td>47.0</td>\n",
              "      <td>Normal</td>\n",
              "    </tr>\n",
              "    <tr>\n",
              "      <th>1048566</th>\n",
              "      <td>Accept</td>\n",
              "      <td>32661</td>\n",
              "      <td>22.0</td>\n",
              "      <td>Good</td>\n",
              "    </tr>\n",
              "    <tr>\n",
              "      <th>1048573</th>\n",
              "      <td>Reject</td>\n",
              "      <td>4402</td>\n",
              "      <td>37.0</td>\n",
              "      <td>Good</td>\n",
              "    </tr>\n",
              "  </tbody>\n",
              "</table>\n",
              "<p>229850 rows × 4 columns</p>\n",
              "</div>"
            ],
            "text/plain": [
              "        L3Decision L3LoginID  L3operatorsecs performance\n",
              "0           Reject     32887             8.0   Excellent\n",
              "8           Accept     32887            42.0      Normal\n",
              "9           Reject      5525             9.0   Excellent\n",
              "12          Reject      5525             9.0   Excellent\n",
              "14          Accept     32887            24.0        Good\n",
              "...            ...       ...             ...         ...\n",
              "1048547     Accept     32661            14.0   Excellent\n",
              "1048560     Accept      6320            41.0      Normal\n",
              "1048561     Accept      4402            47.0      Normal\n",
              "1048566     Accept     32661            22.0        Good\n",
              "1048573     Reject      4402            37.0        Good\n",
              "\n",
              "[229850 rows x 4 columns]"
            ]
          },
          "metadata": {},
          "execution_count": 121
        }
      ]
    },
    {
      "cell_type": "code",
      "metadata": {
        "colab": {
          "base_uri": "https://localhost:8080/",
          "height": 339
        },
        "id": "v5dZDBlaLJUa",
        "outputId": "fda75664-276c-4f24-8768-4403228caefb"
      },
      "source": [
        "sns.countplot(x=\"L3Decision\",data=l3_operator,order=pd.value_counts(l3_operator[\"L3Decision\"]).index)\n",
        "sns.set(rc={'figure.figsize':(5,5)})"
      ],
      "execution_count": null,
      "outputs": [
        {
          "output_type": "display_data",
          "data": {
            "image/png": "[encoded data removed]",
            "text/plain": [
              "<Figure size 360x360 with 1 Axes>"
            ]
          },
          "metadata": {}
        }
      ]
    },
    {
      "cell_type": "code",
      "metadata": {
        "id": "4HlVt6YF6ZC2",
        "colab": {
          "base_uri": "https://localhost:8080/",
          "height": 35
        },
        "outputId": "901765ef-e832-48e9-ce11-d8dd1e82faad"
      },
      "source": [
        "import os\n",
        "os.getcwd()"
      ],
      "execution_count": null,
      "outputs": [
        {
          "output_type": "execute_result",
          "data": {
            "application/vnd.google.colaboratory.intrinsic+json": {
              "type": "string"
            },
            "text/plain": [
              "'/content'"
            ]
          },
          "metadata": {},
          "execution_count": 60
        }
      ]
    },
    {
      "cell_type": "code",
      "metadata": {
        "id": "mOOW6X5DMpNL"
      },
      "source": [
        "l2_operator.to_csv('l2_operator.csv', encoding = \"utf-8\",index=False)"
      ],
      "execution_count": null,
      "outputs": []
    },
    {
      "cell_type": "code",
      "metadata": {
        "id": "UsuOTBRvODEz"
      },
      "source": [
        "l3_operator.to_csv('l3_operator.csv', encoding = \"utf-8\",index=False)"
      ],
      "execution_count": null,
      "outputs": []
    },
    {
      "cell_type": "code",
      "metadata": {
        "id": "GmIpvzYHOcTb"
      },
      "source": [
        ""
      ],
      "execution_count": null,
      "outputs": []
    },
    {
      "cell_type": "code",
      "metadata": {
        "id": "ssTGvtr5Ocpe"
      },
      "source": [
        "l2_operator = pd.read_csv('/content/l2_operator.csv',encoding=\"ISO-8859-1\")"
      ],
      "execution_count": null,
      "outputs": []
    },
    {
      "cell_type": "code",
      "metadata": {
        "id": "K4k_vq7gPjtu"
      },
      "source": [
        "l3_operator = pd.read_csv('/content/l3_operator.csv',encoding=\"ISO-8859-1\")"
      ],
      "execution_count": null,
      "outputs": []
    },
    {
      "cell_type": "code",
      "metadata": {
        "id": "3Uh-2ylnPDa5"
      },
      "source": [
        "l2_operator.describe()"
      ],
      "execution_count": null,
      "outputs": []
    },
    {
      "cell_type": "code",
      "metadata": {
        "id": "Y3wp1oj5ZyLC"
      },
      "source": [
        "l2_operator.info()"
      ],
      "execution_count": null,
      "outputs": []
    },
    {
      "cell_type": "code",
      "metadata": {
        "id": "arjtZvcmW8d-"
      },
      "source": [
        "import seaborn as sns\n",
        "from sklearn.model_selection import train_test_split\n",
        "from sklearn.linear_model import LogisticRegression\n",
        "from sklearn.metrics import accuracy_score"
      ],
      "execution_count": null,
      "outputs": []
    },
    {
      "cell_type": "code",
      "metadata": {
        "id": "Pc40-QTUW_l7"
      },
      "source": [
        "l2_operator.columns"
      ],
      "execution_count": null,
      "outputs": []
    },
    {
      "cell_type": "code",
      "metadata": {
        "id": "6YNL9HaZ-Pmk"
      },
      "source": [
        "l2operator = l2_operator.drop(['Unnamed: 0'],axis=1,inplace=False)"
      ],
      "execution_count": null,
      "outputs": []
    },
    {
      "cell_type": "code",
      "metadata": {
        "id": "k1bivZI4wE0t"
      },
      "source": [
        "l2operator.columns"
      ],
      "execution_count": null,
      "outputs": []
    },
    {
      "cell_type": "code",
      "metadata": {
        "id": "mg_DtHzPkKdC"
      },
      "source": [
        "l2operator.info()"
      ],
      "execution_count": null,
      "outputs": []
    },
    {
      "cell_type": "code",
      "metadata": {
        "id": "LPWJziQ_9_Tk"
      },
      "source": [
        "from sklearn.preprocessing import LabelEncoder\n",
        "labelencoder = LabelEncoder()\n",
        "l2operator['performance']= labelencoder.fit_transform(l2operator['performance'])\n",
        "l2operator['L2Decision']= labelencoder.fit_transform(l2operator['L2Decision'])"
      ],
      "execution_count": null,
      "outputs": []
    },
    {
      "cell_type": "code",
      "metadata": {
        "id": "doRu3T1Y_T24"
      },
      "source": [
        "l2operator"
      ],
      "execution_count": null,
      "outputs": []
    },
    {
      "cell_type": "code",
      "metadata": {
        "id": "7cVtPEljqAfd"
      },
      "source": [
        "l2operator.info()"
      ],
      "execution_count": null,
      "outputs": []
    },
    {
      "cell_type": "code",
      "metadata": {
        "id": "_9f1lbgqxU6h"
      },
      "source": [
        "train, test = train_test_split(l2operator, test_size = 0.2)"
      ],
      "execution_count": null,
      "outputs": []
    },
    {
      "cell_type": "code",
      "metadata": {
        "id": "VxLFqQuhy-OX"
      },
      "source": [
        "l2operator = LogisticRegression(multi_class = \"multinomial\", solver = \"newton-cg\").fit(train.iloc[:, 0:3], train.iloc[:, 3])\n",
        "help(LogisticRegression)"
      ],
      "execution_count": null,
      "outputs": []
    },
    {
      "cell_type": "code",
      "metadata": {
        "id": "ADpp1SWdzJD5"
      },
      "source": [
        "test_predict = l2operator.predict(test.iloc[:, 0:3])"
      ],
      "execution_count": null,
      "outputs": []
    },
    {
      "cell_type": "code",
      "metadata": {
        "id": "Wt0It3Z60uRg"
      },
      "source": [
        "accuracy_score(test.iloc[:,3], test_predict)"
      ],
      "execution_count": null,
      "outputs": []
    },
    {
      "cell_type": "code",
      "metadata": {
        "id": "D5DUv4Ke07An"
      },
      "source": [
        "train_predict = l2operator.predict(train.iloc[:, 0:3])"
      ],
      "execution_count": null,
      "outputs": []
    },
    {
      "cell_type": "code",
      "metadata": {
        "id": "Nuyh9cNO1HxY"
      },
      "source": [
        "accuracy_score(train.iloc[:,3], train_predict)"
      ],
      "execution_count": null,
      "outputs": []
    },
    {
      "cell_type": "code",
      "metadata": {
        "id": "pxIoaz_RNxGT"
      },
      "source": [
        "from sklearn.linear_model import LogisticRegression\n",
        "import sklearn.linear_model as lm\n",
        "logreg = lm.LogisticRegression()"
      ],
      "execution_count": null,
      "outputs": []
    },
    {
      "cell_type": "markdown",
      "metadata": {
        "id": "lNJg46ucPrPP"
      },
      "source": [
        "L3 **Operator**"
      ]
    },
    {
      "cell_type": "code",
      "metadata": {
        "id": "8_Uf2Hx1K5hP"
      },
      "source": [
        "l3_operator.describe()"
      ],
      "execution_count": null,
      "outputs": []
    },
    {
      "cell_type": "code",
      "metadata": {
        "id": "LwNN3TaVQC4Q"
      },
      "source": [
        "l3_operator.info()"
      ],
      "execution_count": null,
      "outputs": []
    },
    {
      "cell_type": "code",
      "metadata": {
        "id": "kPFZb4UAQTGO"
      },
      "source": [
        "l3_operator.columns"
      ],
      "execution_count": null,
      "outputs": []
    },
    {
      "cell_type": "code",
      "metadata": {
        "id": "BK22ztNfQXB0"
      },
      "source": [
        "l3operator = l3_operator.drop(['Unnamed: 0'],axis=1)"
      ],
      "execution_count": null,
      "outputs": []
    },
    {
      "cell_type": "code",
      "metadata": {
        "id": "ipG6NOBuQmGB"
      },
      "source": [
        "l3operator.columns"
      ],
      "execution_count": null,
      "outputs": []
    },
    {
      "cell_type": "code",
      "metadata": {
        "id": "YVcV1XOMRT5G"
      },
      "source": [
        "l3operator['performance']= labelencoder.fit_transform(l3operator['performance'])\n",
        "l3operator['L3Decision']= labelencoder.fit_transform(l3operator['L3Decision'])"
      ],
      "execution_count": null,
      "outputs": []
    },
    {
      "cell_type": "code",
      "metadata": {
        "id": "jQFXjSARRdd1"
      },
      "source": [
        "l3operator"
      ],
      "execution_count": null,
      "outputs": []
    },
    {
      "cell_type": "code",
      "metadata": {
        "id": "Aum98eEvQowy"
      },
      "source": [
        "train, test = train_test_split(l3operator, test_size = 0.2)"
      ],
      "execution_count": null,
      "outputs": []
    },
    {
      "cell_type": "code",
      "metadata": {
        "id": "ZHVIPozHQzN0"
      },
      "source": [
        "l3operator = LogisticRegression(multi_class = \"multinomial\", solver = \"newton-cg\").fit(train.iloc[:, 0:3], train.iloc[:, 3])"
      ],
      "execution_count": null,
      "outputs": []
    },
    {
      "cell_type": "code",
      "metadata": {
        "id": "N5eQahMzRBFV"
      },
      "source": [
        "test_predict = l3operator.predict(test.iloc[:, 0:3])"
      ],
      "execution_count": null,
      "outputs": []
    },
    {
      "cell_type": "code",
      "metadata": {
        "id": "ZeaytCZuTuqz"
      },
      "source": [
        "accuracy_score(test.iloc[:,3], test_predict)"
      ],
      "execution_count": null,
      "outputs": []
    },
    {
      "cell_type": "code",
      "metadata": {
        "id": "2QjAi-KeT6Ou"
      },
      "source": [
        "train_predict = l3operator.predict(train.iloc[:, 0:3])"
      ],
      "execution_count": null,
      "outputs": []
    },
    {
      "cell_type": "code",
      "metadata": {
        "id": "joOwkZRVUBiQ"
      },
      "source": [
        "accuracy_score(train.iloc[:,3], train_predict)"
      ],
      "execution_count": null,
      "outputs": []
    },
    {
      "cell_type": "code",
      "metadata": {
        "id": "qkLd0fvQUMvb"
      },
      "source": [
        ""
      ],
      "execution_count": null,
      "outputs": []
    }
  ]
}